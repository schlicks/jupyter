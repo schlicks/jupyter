{
 "cells": [
  {
   "cell_type": "markdown",
   "metadata": {},
   "source": [
    "<p style=\"color:#FFF; background-color:#00C; padding:12px; font-size:20px; text-align:center\">\n",
    "<span style=\"font-size:48px\"><b>PACKAGE : NUMPY</b></span><br>\n",
    "<span style=\"width:49%; display:inline-block; text-align:left\">Christophe Schlick</span>\n",
    "<span style=\"width:49%; display:inline-block; text-align:right\"><i>schlick@u-bordeaux.fr</i></span></p>"
   ]
  },
  {
   "cell_type": "markdown",
   "metadata": {},
   "source": [
    "Le package [**numpy**](https://numpy.readthedocs.io/en/latest) fournit à Python des outils flexibles et efficaces pour le stockage et le traitement de données numériques, pour un nombre quelconque de dimensions\n",
    "\n",
    "La documentation complète du package se trouve sur le site [**ReadTheDocs**](https://numpy.readthedocs.io) mais elle est également directement disponible dans le menu `Help` de l'interface Jupyter. Ce notebook a pour objet de faire un tour d'horizon rapide et de montrer les fonctionnalités les plus utiles de **numpy** dans le cadre d'une utilisation au sein de l'environnement Jupyter\n",
    "    \n",
    "---\n",
    "On importe habituellement le package **numpy** par le biais d'un alias, avec la commande suivante :\n",
    "\n",
    "> `import numpy as np`\n",
    "\n",
    "afin de racourcir le préfixe qu'il faudra utiliser pour accéder aux fonctions qu'il contient :"
   ]
  },
  {
   "cell_type": "code",
   "execution_count": 1,
   "metadata": {},
   "outputs": [],
   "source": [
    "import numpy as np # import du package 'numpy' avec alias 'np'\n",
    "from SRC.show import show # import de la fonction 'show' permettant de simplifier certaines explications"
   ]
  },
  {
   "cell_type": "markdown",
   "metadata": {},
   "source": [
    "<h2 style=\"padding:16px; color:#FFF; background-color:#00C\">A - Création de tables</h2>\n",
    "\n",
    "### 1 - Création de tables à partir de listes Python"
   ]
  },
  {
   "cell_type": "code",
   "execution_count": 2,
   "metadata": {},
   "outputs": [],
   "source": [
    "a = np.array([1,-2,3,-4,-5,6,-7,8]) # création d'une table 1D à partir d'une liste standard"
   ]
  },
  {
   "cell_type": "code",
   "execution_count": 3,
   "metadata": {},
   "outputs": [
    {
     "data": {
      "text/plain": [
       "array([ 1, -2,  3, -4, -5,  6, -7,  8])"
      ]
     },
     "execution_count": 3,
     "metadata": {},
     "output_type": "execute_result"
    }
   ],
   "source": [
    "a # numpy fournit un nouveau type de données appelé 'array'"
   ]
  },
  {
   "cell_type": "code",
   "execution_count": 4,
   "metadata": {},
   "outputs": [
    {
     "name": "stdout",
     "output_type": "stream",
     "text": [
      "[ 1 -2  3 -4 -5  6 -7  8]\n"
     ]
    }
   ],
   "source": [
    "print(a) # affichage plus compact et plus lisible"
   ]
  },
  {
   "cell_type": "code",
   "execution_count": 5,
   "metadata": {},
   "outputs": [
    {
     "name": "stdout",
     "output_type": "stream",
     "text": [
      "a = [ 1 -2  3 -4 -5  6 -7  8]\n",
      "a.shape = (8,)\n",
      "a.size = 8\n",
      "a.ndim = 1\n",
      "a.dtype = int32\n",
      "a.itemsize = 4\n",
      "a.nbytes = 32\n"
     ]
    }
   ],
   "source": [
    "show(\"a; a.shape; a.size; a.ndim; a.dtype; a.itemsize; a.nbytes\") # propriétés de la table"
   ]
  },
  {
   "cell_type": "code",
   "execution_count": 6,
   "metadata": {},
   "outputs": [
    {
     "name": "stdout",
     "output_type": "stream",
     "text": [
      "a = [ 1. -2.  3. -4. -5.  6. -7.  8.]\n",
      "a.shape = (8,)\n",
      "a.size = 8\n",
      "a.ndim = 1\n",
      "a.dtype = float64\n",
      "a.itemsize = 8\n",
      "a.nbytes = 64\n"
     ]
    }
   ],
   "source": [
    "a = np.array([1,-2,3,-4,-5,6,-7,8], dtype=float) # création d'une table 1D en forçant le type de données\n",
    "show(\"a; a.shape; a.size; a.ndim; a.dtype; a.itemsize; a.nbytes\") # propriétés de la table"
   ]
  },
  {
   "cell_type": "code",
   "execution_count": 7,
   "metadata": {},
   "outputs": [
    {
     "name": "stdout",
     "output_type": "stream",
     "text": [
      "a =\n",
      "[[ 1 -2  3 -4]\n",
      " [-5  6 -7  8]]\n",
      "a.shape = (2, 4)\n",
      "a.size = 8\n",
      "a.ndim = 2\n",
      "a.dtype = int32\n",
      "a.itemsize = 4\n",
      "a.nbytes = 32\n"
     ]
    }
   ],
   "source": [
    "a = np.array([[1,-2,3,-4], [-5,6,-7,8]]) # création d'une table 2D à partir d'une liste de listes\n",
    "show(\"a#; a.shape; a.size; a.ndim; a.dtype; a.itemsize; a.nbytes\") # propriétés de la table"
   ]
  },
  {
   "cell_type": "markdown",
   "metadata": {},
   "source": [
    "---\n",
    "### 2 - Création de tables à l'aide de méthodes **numpy** spécifiques"
   ]
  },
  {
   "cell_type": "code",
   "execution_count": 8,
   "metadata": {},
   "outputs": [
    {
     "name": "stdout",
     "output_type": "stream",
     "text": [
      "[[0. 0. 0. 0. 0.]\n",
      " [0. 0. 0. 0. 0.]\n",
      " [0. 0. 0. 0. 0.]]\n"
     ]
    }
   ],
   "source": [
    "print(np.zeros((3,5))) # création d'une table initialisée à 0 (type 'float' par défaut)"
   ]
  },
  {
   "cell_type": "code",
   "execution_count": 9,
   "metadata": {},
   "outputs": [
    {
     "name": "stdout",
     "output_type": "stream",
     "text": [
      "[[0 0 0 0 0]\n",
      " [0 0 0 0 0]\n",
      " [0 0 0 0 0]]\n"
     ]
    }
   ],
   "source": [
    "print(np.zeros((3,5), dtype=int)) # idem en forçant le type à 'int'"
   ]
  },
  {
   "cell_type": "code",
   "execution_count": 10,
   "metadata": {},
   "outputs": [
    {
     "name": "stdout",
     "output_type": "stream",
     "text": [
      "[[[1. 1. 1. 1. 1. 1. 1. 1.]\n",
      "  [1. 1. 1. 1. 1. 1. 1. 1.]\n",
      "  [1. 1. 1. 1. 1. 1. 1. 1.]]\n",
      "\n",
      " [[1. 1. 1. 1. 1. 1. 1. 1.]\n",
      "  [1. 1. 1. 1. 1. 1. 1. 1.]\n",
      "  [1. 1. 1. 1. 1. 1. 1. 1.]]]\n"
     ]
    }
   ],
   "source": [
    "print(np.ones((2,3,8))) # création d'une table initialisée à 1"
   ]
  },
  {
   "cell_type": "code",
   "execution_count": 11,
   "metadata": {},
   "outputs": [
    {
     "name": "stdout",
     "output_type": "stream",
     "text": [
      "[[['x' 'x' 'x' 'x' 'x' 'x' 'x' 'x']\n",
      "  ['x' 'x' 'x' 'x' 'x' 'x' 'x' 'x']\n",
      "  ['x' 'x' 'x' 'x' 'x' 'x' 'x' 'x']]\n",
      "\n",
      " [['x' 'x' 'x' 'x' 'x' 'x' 'x' 'x']\n",
      "  ['x' 'x' 'x' 'x' 'x' 'x' 'x' 'x']\n",
      "  ['x' 'x' 'x' 'x' 'x' 'x' 'x' 'x']]]\n"
     ]
    }
   ],
   "source": [
    "print(np.full((2,3,8), 'x')) # création d'une table initialisée à une valeur donnée"
   ]
  },
  {
   "cell_type": "code",
   "execution_count": 12,
   "metadata": {},
   "outputs": [
    {
     "name": "stdout",
     "output_type": "stream",
     "text": [
      "[[1. 0. 0.]\n",
      " [0. 1. 0.]\n",
      " [0. 0. 1.]]\n"
     ]
    }
   ],
   "source": [
    "print(np.eye(3)) # création d'une matrice identité"
   ]
  },
  {
   "cell_type": "code",
   "execution_count": 13,
   "metadata": {},
   "outputs": [
    {
     "name": "stdout",
     "output_type": "stream",
     "text": [
      "[[1. 0. 0. 0. 0.]\n",
      " [1. 1. 0. 0. 0.]\n",
      " [1. 1. 1. 0. 0.]\n",
      " [1. 1. 1. 1. 0.]\n",
      " [1. 1. 1. 1. 1.]]\n"
     ]
    }
   ],
   "source": [
    "print(np.tri(5)) # création d'une matrice triangulaire sur base carrée"
   ]
  },
  {
   "cell_type": "code",
   "execution_count": 14,
   "metadata": {},
   "outputs": [
    {
     "name": "stdout",
     "output_type": "stream",
     "text": [
      "[[1. 1. 1. 0. 0. 0. 0. 0. 0.]\n",
      " [1. 1. 1. 1. 0. 0. 0. 0. 0.]\n",
      " [1. 1. 1. 1. 1. 0. 0. 0. 0.]\n",
      " [1. 1. 1. 1. 1. 1. 0. 0. 0.]\n",
      " [1. 1. 1. 1. 1. 1. 1. 0. 0.]\n",
      " [1. 1. 1. 1. 1. 1. 1. 1. 0.]]\n"
     ]
    }
   ],
   "source": [
    "print(np.tri(6,9,2)) # création d'une matrice triangulaire sur base rectangle avec décalage de diagonale"
   ]
  },
  {
   "cell_type": "code",
   "execution_count": 15,
   "metadata": {},
   "outputs": [
    {
     "name": "stdout",
     "output_type": "stream",
     "text": [
      "[99 88 77 66 55 44 33 22 11]\n"
     ]
    }
   ],
   "source": [
    "print(np.arange(99,0,-11)) # création d'une table à partir d'un itérateur à pas entiers"
   ]
  },
  {
   "cell_type": "code",
   "execution_count": 16,
   "metadata": {},
   "outputs": [
    {
     "name": "stdout",
     "output_type": "stream",
     "text": [
      "[0.  0.1 0.2 0.3 0.4 0.5 0.6 0.7 0.8 0.9 1. ]\n"
     ]
    }
   ],
   "source": [
    "print(np.linspace(0,1,11)) # idem avec un itérateur à pas linéaires"
   ]
  },
  {
   "cell_type": "code",
   "execution_count": 17,
   "metadata": {},
   "outputs": [
    {
     "name": "stdout",
     "output_type": "stream",
     "text": [
      "[1.e-04 1.e-03 1.e-02 1.e-01 1.e+00 1.e+01 1.e+02 1.e+03 1.e+04]\n"
     ]
    }
   ],
   "source": [
    "print(np.logspace(-4,4,9)) # idem avec un itérateur à pas logarithmiques"
   ]
  },
  {
   "cell_type": "code",
   "execution_count": 18,
   "metadata": {},
   "outputs": [
    {
     "name": "stdout",
     "output_type": "stream",
     "text": [
      "[[0.25271358 0.93638225 0.80308652 0.73345568 0.31889539 0.71988915]\n",
      " [0.47514706 0.22160636 0.50224442 0.63139119 0.83118207 0.32098757]\n",
      " [0.11109195 0.20386571 0.03326375 0.79510133 0.97894854 0.50126112]\n",
      " [0.49772415 0.12414954 0.80254524 0.3969369  0.76722923 0.68386739]]\n"
     ]
    }
   ],
   "source": [
    "print(np.random.rand(4,6)) # création d'une table de valeurs aléatoires, distribution uniforme sur [0,1)"
   ]
  },
  {
   "cell_type": "code",
   "execution_count": 19,
   "metadata": {},
   "outputs": [
    {
     "name": "stdout",
     "output_type": "stream",
     "text": [
      "[[-0.24646394 -0.54695529 -1.63254444  0.43361308 -0.19518488 -0.24002785]\n",
      " [-1.20846475  1.5124128   1.43449707 -0.78647672 -1.27792905  1.27133739]\n",
      " [ 0.36601339 -1.96070059 -1.01193099  0.64305867  1.08872612 -0.00731036]\n",
      " [-0.33048762 -1.14335824  0.19176192  0.19645133  0.93727738  2.08260615]]\n"
     ]
    }
   ],
   "source": [
    "print(np.random.normal(0, 1, (4,6))) # idem avec distribution normale (moyenne = 0, écart-type = 1)"
   ]
  },
  {
   "cell_type": "code",
   "execution_count": 20,
   "metadata": {},
   "outputs": [
    {
     "name": "stdout",
     "output_type": "stream",
     "text": [
      "[[2 2 3 4 4 1 6 2 4 6 4 4 4 6 4 2 4 5 4 6 1 5 5 2 3 2 2 1 1 1]\n",
      " [6 6 3 6 4 2 4 1 6 3 4 2 3 1 2 5 3 4 3 5 2 2 4 4 5 4 1 5 1 5]\n",
      " [1 5 2 2 3 3 6 5 4 4 2 1 3 1 1 5 1 2 5 1 3 6 5 1 6 3 4 4 4 5]\n",
      " [1 4 4 2 5 4 6 5 5 3 5 3 1 2 5 2 3 5 4 3 1 2 6 1 2 3 1 2 2 4]\n",
      " [4 5 3 4 5 3 6 5 4 1 1 2 6 5 2 2 5 3 2 3 4 3 1 6 3 2 5 1 3 4]]\n"
     ]
    }
   ],
   "source": [
    "print(np.random.randint(1, 7, (5,30))) # idem avec des valeurs aléatoires entières sur {1..6}"
   ]
  },
  {
   "cell_type": "markdown",
   "metadata": {},
   "source": [
    "<h2 style=\"padding:16px; color:#FFF; background-color:#00C\">B - Transformation de tables</h2>\n",
    "\n",
    "### 1 - Modification de forme ou de dimension"
   ]
  },
  {
   "cell_type": "code",
   "execution_count": 21,
   "metadata": {},
   "outputs": [
    {
     "name": "stdout",
     "output_type": "stream",
     "text": [
      "[[ 1 -2  3 -4]\n",
      " [-5  6 -7  8]]\n"
     ]
    }
   ],
   "source": [
    "a = np.array([[1,-2,3,-4], [-5,6,-7,8]])\n",
    "print(a)"
   ]
  },
  {
   "cell_type": "code",
   "execution_count": 22,
   "metadata": {},
   "outputs": [
    {
     "name": "stdout",
     "output_type": "stream",
     "text": [
      "[[ 1 -5]\n",
      " [-2  6]\n",
      " [ 3 -7]\n",
      " [-4  8]]\n"
     ]
    }
   ],
   "source": [
    "print(a.T) # transposition de la table (= inversion de l'ordre des dimensions)"
   ]
  },
  {
   "cell_type": "code",
   "execution_count": 23,
   "metadata": {},
   "outputs": [
    {
     "name": "stdout",
     "output_type": "stream",
     "text": [
      "[ 1 -2  3 -4 -5  6 -7  8]\n"
     ]
    }
   ],
   "source": [
    "print(a.ravel()) # aplatissement de la table (= conversion en table 1D)"
   ]
  },
  {
   "cell_type": "code",
   "execution_count": 24,
   "metadata": {},
   "outputs": [
    {
     "name": "stdout",
     "output_type": "stream",
     "text": [
      "[ 1 -5 -2  6  3 -7 -4  8]\n"
     ]
    }
   ],
   "source": [
    "print(a.T.ravel()) # idem avec inversion de l'ordre des dimensions"
   ]
  },
  {
   "cell_type": "code",
   "execution_count": 25,
   "metadata": {},
   "outputs": [
    {
     "name": "stdout",
     "output_type": "stream",
     "text": [
      "[[ 1 -2  3 -4 -5  6 -7  8]]\n"
     ]
    }
   ],
   "source": [
    "print(a.reshape((1,8))) # modification de la forme d'une table existante (1 ligne, 8 colonnes)"
   ]
  },
  {
   "cell_type": "code",
   "execution_count": 26,
   "metadata": {},
   "outputs": [
    {
     "name": "stdout",
     "output_type": "stream",
     "text": [
      "[[ 1]\n",
      " [-2]\n",
      " [ 3]\n",
      " [-4]\n",
      " [-5]\n",
      " [ 6]\n",
      " [-7]\n",
      " [ 8]]\n"
     ]
    }
   ],
   "source": [
    "print(a.reshape((8,1))) # idem (8 lignes, 1 colonne)"
   ]
  },
  {
   "cell_type": "code",
   "execution_count": 27,
   "metadata": {},
   "outputs": [
    {
     "name": "stdout",
     "output_type": "stream",
     "text": [
      "[[ 1 -2]\n",
      " [ 3 -4]\n",
      " [-5  6]\n",
      " [-7  8]]\n"
     ]
    }
   ],
   "source": [
    "print(a.reshape((4,2))) # idem (4 lignes, 2 colonnes)"
   ]
  },
  {
   "cell_type": "code",
   "execution_count": 28,
   "metadata": {},
   "outputs": [
    {
     "name": "stdout",
     "output_type": "stream",
     "text": [
      "[[[ 1 -2]\n",
      "  [ 3 -4]]\n",
      "\n",
      " [[-5  6]\n",
      "  [-7  8]]]\n"
     ]
    }
   ],
   "source": [
    "print(a.reshape((2,2,2))) # idem (2 lignes, 2 colonnes, 2 plans)"
   ]
  },
  {
   "cell_type": "code",
   "execution_count": 29,
   "metadata": {},
   "outputs": [
    {
     "name": "stdout",
     "output_type": "stream",
     "text": [
      "[[[ 1 -2  3 -4]\n",
      "  [-5  6 -7  8]]]\n"
     ]
    }
   ],
   "source": [
    "print(a[None, ...]) # ajout d'une dimension en tête"
   ]
  },
  {
   "cell_type": "code",
   "execution_count": 30,
   "metadata": {},
   "outputs": [
    {
     "name": "stdout",
     "output_type": "stream",
     "text": [
      "[[[ 1 -2  3 -4]]\n",
      "\n",
      " [[-5  6 -7  8]]]\n"
     ]
    }
   ],
   "source": [
    "print(a[:, None, :]) # ajout d'une dimension au centre"
   ]
  },
  {
   "cell_type": "code",
   "execution_count": 31,
   "metadata": {},
   "outputs": [
    {
     "name": "stdout",
     "output_type": "stream",
     "text": [
      "[[[ 1]\n",
      "  [-2]\n",
      "  [ 3]\n",
      "  [-4]]\n",
      "\n",
      " [[-5]\n",
      "  [ 6]\n",
      "  [-7]\n",
      "  [ 8]]]\n"
     ]
    }
   ],
   "source": [
    "print(a[..., None]) # ajout d'une dimension en queue"
   ]
  },
  {
   "cell_type": "markdown",
   "metadata": {},
   "source": [
    "---\n",
    "### 2 - Transformations particulières pour table 2D"
   ]
  },
  {
   "cell_type": "code",
   "execution_count": 32,
   "metadata": {},
   "outputs": [
    {
     "name": "stdout",
     "output_type": "stream",
     "text": [
      "[[-4  3 -2  1]\n",
      " [ 8 -7  6 -5]]\n"
     ]
    }
   ],
   "source": [
    "print(np.fliplr(a)) # transposition left <-> right"
   ]
  },
  {
   "cell_type": "code",
   "execution_count": 33,
   "metadata": {},
   "outputs": [
    {
     "name": "stdout",
     "output_type": "stream",
     "text": [
      "[[-5  6 -7  8]\n",
      " [ 1 -2  3 -4]]\n"
     ]
    }
   ],
   "source": [
    "print(np.flipud(a)) # transposition up <-> down"
   ]
  },
  {
   "cell_type": "code",
   "execution_count": 34,
   "metadata": {},
   "outputs": [
    {
     "name": "stdout",
     "output_type": "stream",
     "text": [
      "[[-4  8]\n",
      " [ 3 -7]\n",
      " [-2  6]\n",
      " [ 1 -5]]\n"
     ]
    }
   ],
   "source": [
    "print(np.rot90(a)) # rotation 90° (sens trigonométrique)"
   ]
  },
  {
   "cell_type": "code",
   "execution_count": 35,
   "metadata": {},
   "outputs": [
    {
     "name": "stdout",
     "output_type": "stream",
     "text": [
      "[[ 8 -7  6 -5]\n",
      " [-4  3 -2  1]]\n"
     ]
    }
   ],
   "source": [
    "print(np.rot90(a,2)) # rotation 180°"
   ]
  },
  {
   "cell_type": "code",
   "execution_count": 36,
   "metadata": {},
   "outputs": [
    {
     "name": "stdout",
     "output_type": "stream",
     "text": [
      "[[-5  1]\n",
      " [ 6 -2]\n",
      " [-7  3]\n",
      " [ 8 -4]]\n"
     ]
    }
   ],
   "source": [
    "print(np.rot90(a,3)) # rotation 270°"
   ]
  },
  {
   "cell_type": "markdown",
   "metadata": {},
   "source": [
    "---\n",
    "### 3 - Fusion et séparation de tables"
   ]
  },
  {
   "cell_type": "code",
   "execution_count": 37,
   "metadata": {},
   "outputs": [
    {
     "name": "stdout",
     "output_type": "stream",
     "text": [
      "[[ 1 -2  3 -4]\n",
      " [-5  6 -7  8]\n",
      " [-1  2 -3  4]\n",
      " [ 5 -6  7 -8]\n",
      " [ 1 -2  3 -4]\n",
      " [-5  6 -7  8]]\n"
     ]
    }
   ],
   "source": [
    "print(np.vstack([a,-a,a])) # fusion en hauteur (vertical)"
   ]
  },
  {
   "cell_type": "code",
   "execution_count": 38,
   "metadata": {},
   "outputs": [
    {
     "name": "stdout",
     "output_type": "stream",
     "text": [
      "[[ 1 -2  3 -4 -1  2 -3  4  1 -2  3 -4]\n",
      " [-5  6 -7  8  5 -6  7 -8 -5  6 -7  8]]\n"
     ]
    }
   ],
   "source": [
    "print(np.hstack([a,-a,a])) # fusion en largeur (horizontal)"
   ]
  },
  {
   "cell_type": "code",
   "execution_count": 39,
   "metadata": {},
   "outputs": [
    {
     "name": "stdout",
     "output_type": "stream",
     "text": [
      "[[[ 1 -2  3 -4]\n",
      "  [-5  6 -7  8]]\n",
      "\n",
      " [[-1  2 -3  4]\n",
      "  [ 5 -6  7 -8]]\n",
      "\n",
      " [[ 1 -2  3 -4]\n",
      "  [-5  6 -7  8]]]\n"
     ]
    }
   ],
   "source": [
    "print(np.array([a,-a,a])) # fusion en profondeur"
   ]
  },
  {
   "cell_type": "code",
   "execution_count": 40,
   "metadata": {},
   "outputs": [
    {
     "name": "stdout",
     "output_type": "stream",
     "text": [
      "[[[ 1 -1  1]\n",
      "  [-2  2 -2]\n",
      "  [ 3 -3  3]\n",
      "  [-4  4 -4]]\n",
      "\n",
      " [[-5  5 -5]\n",
      "  [ 6 -6  6]\n",
      "  [-7  7 -7]\n",
      "  [ 8 -8  8]]]\n"
     ]
    }
   ],
   "source": [
    "print(np.dstack([a,-a,a])) # fusion par position d'élément"
   ]
  },
  {
   "cell_type": "code",
   "execution_count": 41,
   "metadata": {},
   "outputs": [
    {
     "name": "stdout",
     "output_type": "stream",
     "text": [
      "b =\n",
      "[[ 1 -2  3 -4]\n",
      " [-5  6 -7  8]\n",
      " [-1  2 -3  4]\n",
      " [ 5 -6  7 -8]\n",
      " [ 1 -2  3 -4]\n",
      " [-5  6 -7  8]]\n",
      "c =\n",
      "[[ 1 -2  3 -4]\n",
      " [-5  6 -7  8]\n",
      " [-1  2 -3  4]]\n",
      "d =\n",
      "[[ 5 -6  7 -8]\n",
      " [ 1 -2  3 -4]\n",
      " [-5  6 -7  8]]\n"
     ]
    }
   ],
   "source": [
    "b = np.vstack([a,-a,a]); c, d = np.vsplit(b, 2) # séparation verticale (équitable)\n",
    "show(\"b#; c#; d#\")"
   ]
  },
  {
   "cell_type": "code",
   "execution_count": 42,
   "metadata": {},
   "outputs": [
    {
     "name": "stdout",
     "output_type": "stream",
     "text": [
      "b =\n",
      "[[ 1 -2  3 -4 -1  2 -3  4  1 -2  3 -4]\n",
      " [-5  6 -7  8  5 -6  7 -8 -5  6 -7  8]]\n",
      "c =\n",
      "[[ 1 -2  3]\n",
      " [-5  6 -7]]\n",
      "d =\n",
      "[[-4 -1  2 -3  4  1 -2  3 -4]\n",
      " [ 8  5 -6  7 -8 -5  6 -7  8]]\n"
     ]
    }
   ],
   "source": [
    "b = np.hstack([a,-a,a]); c, d = np.hsplit(b, [3]) # séparation horizontale (ajustable)\n",
    "show(\"b#; c#; d#\")"
   ]
  },
  {
   "cell_type": "markdown",
   "metadata": {},
   "source": [
    "<h2 style=\"padding:16px; color:#FFF; background-color:#00C\">C - Accès aux éléments d'une table</h2>\n",
    "\n",
    "### 1 - Accès aux éléments par indices, tranches et tuples"
   ]
  },
  {
   "cell_type": "code",
   "execution_count": 43,
   "metadata": {},
   "outputs": [],
   "source": [
    "a = np.array([[1,-2,3,-4], [-5,6,-7,8]])"
   ]
  },
  {
   "cell_type": "code",
   "execution_count": 44,
   "metadata": {},
   "outputs": [
    {
     "name": "stdout",
     "output_type": "stream",
     "text": [
      "a =\n",
      "[[ 1 -2  3 -4]\n",
      " [-5  6 -7  8]]\n",
      "\n",
      "a[0,0] = 1\n",
      "a[0,1] = -2\n",
      "a[1,0] = -5\n",
      "a[-1,-1] = 8\n",
      "\n",
      "a[1,:] = [-5  6 -7  8]\n",
      "a[:,1] = [-2  6]\n",
      "\n",
      "a[0:2,1:3] =\n",
      "[[-2  3]\n",
      " [ 6 -7]]\n",
      "\n",
      "a[:,(3,1,2,0)] =\n",
      "[[-4 -2  3  1]\n",
      " [ 8  6 -7 -5]]\n",
      "\n",
      "a[:,(3,1,2,0)] =\n",
      "[[-4 -2  3  1]\n",
      " [ 8  6 -7 -5]]\n",
      "\n",
      "a[(0,1,0),:3] =\n",
      "[[ 1 -2  3]\n",
      " [-5  6 -7]\n",
      " [ 1 -2  3]]\n",
      "\n"
     ]
    }
   ],
   "source": [
    "show(\"a#;; a[0,0]; a[0,1]; a[1,0]; a[-1,-1];; a[1,:]; a[:,1];\")\n",
    "show(\"a[0:2,1:3]#;; a[:,(3,1,2,0)]#;; a[:,(3,1,2,0)]#;; a[(0,1,0),:3]#;\")"
   ]
  },
  {
   "cell_type": "markdown",
   "metadata": {},
   "source": [
    "---\n",
    "### 2 - Accès aux éléments par prédicats et méthodes"
   ]
  },
  {
   "cell_type": "code",
   "execution_count": 45,
   "metadata": {},
   "outputs": [
    {
     "name": "stdout",
     "output_type": "stream",
     "text": [
      "a[a>0] = [1 3 6 8]\n",
      "a[abs(a)>4] = [-5  6 -7  8]\n",
      "a[(a>0) & (a<4)] = [1 3]\n",
      "a[(a%2 == 0) | (a%3 == 0)] = [-2  3 -4  6  8]\n"
     ]
    }
   ],
   "source": [
    "show(\"a[a>0]; a[abs(a)>4]; a[(a>0) & (a<4)]; a[(a%2 == 0) | (a%3 == 0)]\")"
   ]
  },
  {
   "cell_type": "code",
   "execution_count": 46,
   "metadata": {},
   "outputs": [
    {
     "name": "stdout",
     "output_type": "stream",
     "text": [
      "[[ 0 -2  0 -4]\n",
      " [-5  0 -7  0]]\n"
     ]
    }
   ],
   "source": [
    "a[a > 0] = 0\n",
    "print(a)"
   ]
  },
  {
   "cell_type": "markdown",
   "metadata": {},
   "source": [
    "---\n",
    "### 3 - Itération sur les éléments"
   ]
  },
  {
   "cell_type": "code",
   "execution_count": 47,
   "metadata": {},
   "outputs": [
    {
     "name": "stdout",
     "output_type": "stream",
     "text": [
      "index = (0, 0)  value = 0\n",
      "index = (0, 1)  value = -2\n",
      "index = (0, 2)  value = 0\n",
      "index = (0, 3)  value = -4\n",
      "index = (1, 0)  value = -5\n",
      "index = (1, 1)  value = 0\n",
      "index = (1, 2)  value = -7\n",
      "index = (1, 3)  value = 0\n"
     ]
    }
   ],
   "source": [
    "for index, value in np.ndenumerate(a): print(f\"index = {index}  value = {value}\")"
   ]
  },
  {
   "cell_type": "markdown",
   "metadata": {},
   "source": [
    "<h2 style=\"padding:16px; color:#FFF; background-color:#00C\">D - Opérations sur les tables</h2>\n",
    "\n",
    "### 1 - Manipulation par opérateurs"
   ]
  },
  {
   "cell_type": "code",
   "execution_count": 65,
   "metadata": {},
   "outputs": [
    {
     "name": "stdout",
     "output_type": "stream",
     "text": [
      "[[ 1 -2  3 -4]\n",
      " [-5  6 -7  8]]\n"
     ]
    }
   ],
   "source": [
    "a = np.array([[1,-2,3,-4], [-5,6,-7,8]]); print(a)"
   ]
  },
  {
   "cell_type": "code",
   "execution_count": 66,
   "metadata": {},
   "outputs": [
    {
     "name": "stdout",
     "output_type": "stream",
     "text": [
      "[[  3  -3   7  -7]\n",
      " [ -9  13 -13  17]]\n"
     ]
    }
   ],
   "source": [
    "print(1 + 2 * a) # combinaison linéaire avec broadcasting"
   ]
  },
  {
   "cell_type": "code",
   "execution_count": 67,
   "metadata": {},
   "outputs": [
    {
     "name": "stdout",
     "output_type": "stream",
     "text": [
      "[[ 1  4  9 16]\n",
      " [25 36 49 64]]\n"
     ]
    }
   ],
   "source": [
    "print(a * a) # produit interne (élément par élément)"
   ]
  },
  {
   "cell_type": "code",
   "execution_count": 68,
   "metadata": {},
   "outputs": [
    {
     "name": "stdout",
     "output_type": "stream",
     "text": [
      "[[  1  -2   3  -4  -5   6  -7   8]\n",
      " [ -2   4  -6   8  10 -12  14 -16]\n",
      " [  3  -6   9 -12 -15  18 -21  24]\n",
      " [ -4   8 -12  16  20 -24  28 -32]\n",
      " [ -5  10 -15  20  25 -30  35 -40]\n",
      " [  6 -12  18 -24 -30  36 -42  48]\n",
      " [ -7  14 -21  28  35 -42  49 -56]\n",
      " [  8 -16  24 -32 -40  48 -56  64]]\n"
     ]
    }
   ],
   "source": [
    "print(np.outer(a, a)) # produit externe (élément par élément sur table aplatie)"
   ]
  },
  {
   "cell_type": "code",
   "execution_count": 69,
   "metadata": {},
   "outputs": [
    {
     "name": "stdout",
     "output_type": "stream",
     "text": [
      "[[ 30 -70]\n",
      " [-70 174]]\n"
     ]
    }
   ],
   "source": [
    "print(a @ a.T) # produit matriciel (transposée à droite)"
   ]
  },
  {
   "cell_type": "code",
   "execution_count": 70,
   "metadata": {},
   "outputs": [
    {
     "name": "stdout",
     "output_type": "stream",
     "text": [
      "[[ 26 -32  38 -44]\n",
      " [-32  40 -48  56]\n",
      " [ 38 -48  58 -68]\n",
      " [-44  56 -68  80]]\n"
     ]
    }
   ],
   "source": [
    "print(a.T @ a) # produit matriciel (transposée à gauche)"
   ]
  },
  {
   "cell_type": "markdown",
   "metadata": {},
   "source": [
    "---\n",
    "### 2 - Manipulation par fonctions"
   ]
  },
  {
   "cell_type": "code",
   "execution_count": 71,
   "metadata": {},
   "outputs": [
    {
     "data": {
      "text/plain": [
       "'ALLOW_THREADS, AxisError, BUFSIZE, Bytes0, CLIP, ComplexWarning, DataSource, Datetime64, ERR_CALL, ERR_DEFAULT, ERR_IGNORE, ERR_LOG, ERR_PRINT, ERR_RAISE, ERR_WARN, FLOATING_POINT_SUPPORT, FPE_DIVIDEBYZERO, FPE_INVALID, FPE_OVERFLOW, FPE_UNDERFLOW, False_, Inf, Infinity, MAXDIMS, MAY_SHARE_BOUNDS, MAY_SHARE_EXACT, MachAr, ModuleDeprecationWarning, NAN, NINF, NZERO, NaN, PINF, PZERO, RAISE, RankWarning, SHIFT_DIVIDEBYZERO, SHIFT_INVALID, SHIFT_OVERFLOW, SHIFT_UNDERFLOW, ScalarType, Str0, Tester, TooHardError, True_, UFUNC_BUFSIZE_DEFAULT, UFUNC_PYVALS_NAME, Uint64, VisibleDeprecationWarning, WRAP, abs, absolute, add, add_docstring, add_newdoc, add_newdoc_ufunc, alen, all, allclose, alltrue, amax, amin, angle, any, append, apply_along_axis, apply_over_axes, arange, arccos, arccosh, arcsin, arcsinh, arctan, arctan2, arctanh, argmax, argmin, argpartition, argsort, argwhere, around, array, array2string, array_equal, array_equiv, array_repr, array_split, array_str, asanyarray, asarray, asarray_chkfinite, ascontiguousarray, asfarray, asfortranarray, asmatrix, asscalar, atleast_1d, atleast_2d, atleast_3d, average, bartlett, base_repr, binary_repr, bincount, bitwise_and, bitwise_not, bitwise_or, bitwise_xor, blackman, block, bmat, bool8, bool_, broadcast, broadcast_arrays, broadcast_shapes, broadcast_to, busday_count, busday_offset, busdaycalendar, byte, byte_bounds, bytes0, bytes_, c_, can_cast, cast, cbrt, cdouble, ceil, cfloat, char, character, chararray, choose, clip, clongdouble, clongfloat, column_stack, common_type, compare_chararrays, compat, complex128, complex64, complex_, complexfloating, compress, concatenate, conj, conjugate, convolve, copy, copysign, copyto, core, corrcoef, correlate, cos, cosh, count_nonzero, cov, cross, csingle, ctypeslib, cumprod, cumproduct, cumsum, datetime64, datetime_as_string, datetime_data, deg2rad, degrees, delete, deprecate, deprecate_with_doc, diag, diag_indices, diag_indices_from, diagflat, diagonal, diff, digitize, disp, divide, divmod, dot, double, dsplit, dstack, dtype, e, ediff1d, einsum, einsum_path, emath, empty, empty_like, equal, errstate, euler_gamma, exp, exp2, expand_dims, expm1, extract, eye, fabs, fastCopyAndTranspose, fft, fill_diagonal, find_common_type, finfo, fix, flatiter, flatnonzero, flexible, flip, fliplr, flipud, float16, float32, float64, float_, float_power, floating, floor, floor_divide, fmax, fmin, fmod, format_float_positional, format_float_scientific, format_parser, frexp, frombuffer, fromfile, fromfunction, fromiter, frompyfunc, fromregex, fromstring, full, full_like, gcd, generic, genfromtxt, geomspace, get_array_wrap, get_include, get_printoptions, getbufsize, geterr, geterrcall, geterrobj, gradient, greater, greater_equal, half, hamming, hanning, heaviside, histogram, histogram2d, histogram_bin_edges, histogramdd, hsplit, hstack, hypot, i0, identity, iinfo, imag, in1d, index_exp, indices, inexact, inf, info, infty, inner, insert, int0, int16, int32, int64, int8, int_, intc, integer, interp, intersect1d, intp, invert, is_busday, isclose, iscomplex, iscomplexobj, isfinite, isfortran, isin, isinf, isnan, isnat, isneginf, isposinf, isreal, isrealobj, isscalar, issctype, issubclass_, issubdtype, issubsctype, iterable, ix_, kaiser, kron, lcm, ldexp, left_shift, less, less_equal, lexsort, lib, linalg, linspace, little_endian, load, loads, loadtxt, log, log10, log1p, log2, logaddexp, logaddexp2, logical_and, logical_not, logical_or, logical_xor, logspace, longcomplex, longdouble, longfloat, longlong, lookfor, ma, mafromtxt, mask_indices, mat, math, matmul, matrix, matrixlib, max, maximum, maximum_sctype, may_share_memory, mean, median, memmap, meshgrid, mgrid, min, min_scalar_type, minimum, mintypecode, mod, modf, moveaxis, msort, multiply, nan, nan_to_num, nanargmax, nanargmin, nancumprod, nancumsum, nanmax, nanmean, nanmedian, nanmin, nanpercentile, nanprod, nanquantile, nanstd, nansum, nanvar, nbytes, ndarray, ndenumerate, ndfromtxt, ndim, ndindex, nditer, negative, nested_iters, newaxis, nextafter, nonzero, not_equal, numarray, number, obj2sctype, object0, object_, ogrid, oldnumeric, ones, ones_like, os, outer, packbits, pad, partition, percentile, pi, piecewise, place, poly, poly1d, polyadd, polyder, polydiv, polyfit, polyint, polymul, polynomial, polysub, polyval, positive, power, printoptions, prod, product, promote_types, ptp, put, put_along_axis, putmask, quantile, r_, rad2deg, radians, random, ravel, ravel_multi_index, real, real_if_close, rec, recarray, recfromcsv, recfromtxt, reciprocal, record, remainder, repeat, require, reshape, resize, result_type, right_shift, rint, roll, rollaxis, roots, rot90, round, round_, row_stack, s_, safe_eval, save, savetxt, savez, savez_compressed, sctype2char, sctypeDict, sctypes, searchsorted, select, set_numeric_ops, set_printoptions, set_string_function, setbufsize, setdiff1d, seterr, seterrcall, seterrobj, setxor1d, shape, shares_memory, short, show_config, sign, signbit, signedinteger, sin, sinc, single, singlecomplex, sinh, size, sometrue, sort, sort_complex, source, spacing, split, sqrt, square, squeeze, stack, std, str0, str_, string_, subtract, sum, swapaxes, sys, take, take_along_axis, tan, tanh, tensordot, test, testing, tile, timedelta64, trace, tracemalloc_domain, transpose, trapz, tri, tril, tril_indices, tril_indices_from, trim_zeros, triu, triu_indices, triu_indices_from, true_divide, trunc, typeDict, typecodes, typename, ubyte, ufunc, uint, uint0, uint16, uint32, uint64, uint8, uintc, uintp, ulonglong, unicode_, union1d, unique, unpackbits, unravel_index, unsignedinteger, unwrap, use_hugepage, ushort, vander, var, vdot, vectorize, version, void, void0, vsplit, vstack, warnings, where, who, zeros, zeros_like'"
      ]
     },
     "execution_count": 71,
     "metadata": {},
     "output_type": "execute_result"
    }
   ],
   "source": [
    "', '.join(f for f in dir(np) if f[0] != '_')"
   ]
  },
  {
   "cell_type": "code",
   "execution_count": 72,
   "metadata": {},
   "outputs": [
    {
     "name": "stdout",
     "output_type": "stream",
     "text": [
      "[[1 2 3 4]\n",
      " [5 6 7 8]]\n"
     ]
    }
   ],
   "source": [
    "print(np.abs(a)) # valeur absolue (élément par élément)\n",
    "\n",
    "# liste de quelques fonctions usuelles :\n",
    "# +  -  *  /  //  %  **  abs  floor  ceil  round  real  imag  hypot  angle  sqrt  exp  log  log2  log10\n",
    "# cos  sin  tan  arccos  arcsin  arctan  arctan2  cosh  sinh  tanh  arccosh  arcsinh  arctanh\n",
    "# sum  prod  mean  average  median  var  std  any  all  nonzero  isfinite  isposinf  isneginf"
   ]
  },
  {
   "cell_type": "code",
   "execution_count": 73,
   "metadata": {},
   "outputs": [
    {
     "name": "stdout",
     "output_type": "stream",
     "text": [
      "[1 6]\n"
     ]
    }
   ],
   "source": [
    "print(np.diag(a)) # extraction de diagonale"
   ]
  },
  {
   "cell_type": "code",
   "execution_count": 74,
   "metadata": {},
   "outputs": [
    {
     "name": "stdout",
     "output_type": "stream",
     "text": [
      "[3 8]\n"
     ]
    }
   ],
   "source": [
    "print(np.diag(a, 2)) # extraction de diagonale avec décalage"
   ]
  },
  {
   "cell_type": "code",
   "execution_count": 75,
   "metadata": {},
   "outputs": [
    {
     "name": "stdout",
     "output_type": "stream",
     "text": [
      "[[ 1  0  0  0]\n",
      " [-5  6  0  0]]\n"
     ]
    }
   ],
   "source": [
    "print(np.tril(a)) # extraction du triangle inférieur"
   ]
  },
  {
   "cell_type": "code",
   "execution_count": 76,
   "metadata": {},
   "outputs": [
    {
     "name": "stdout",
     "output_type": "stream",
     "text": [
      "[[ 0  0  3 -4]\n",
      " [ 0  0  0  8]]\n"
     ]
    }
   ],
   "source": [
    "print(np.triu(a, 2)) # extraction du triangle supérieur avec décalage"
   ]
  },
  {
   "cell_type": "code",
   "execution_count": 101,
   "metadata": {},
   "outputs": [
    {
     "name": "stdout",
     "output_type": "stream",
     "text": [
      "b =\n",
      "[[  2  -4   6  -8]\n",
      " [-10  12 -14  16]]\n",
      "b =\n",
      "[[  2   6   6  -8]\n",
      " [-10  12 -14  26]]\n"
     ]
    }
   ],
   "source": [
    "b = np.multiply(a, 2) # équivalent à 'b = a * 2'\n",
    "show('b#')\n",
    "np.add.at(b, ((0,1),(1,3)), 10) # opération sur une partie des éléments (indices définis par deux tuples)\n",
    "show('b#')"
   ]
  },
  {
   "cell_type": "markdown",
   "metadata": {},
   "source": [
    "---\n",
    "### 3 - Manipulation par méthodes"
   ]
  },
  {
   "cell_type": "code",
   "execution_count": 102,
   "metadata": {},
   "outputs": [
    {
     "data": {
      "text/plain": [
       "'T, all, any, argmax, argmin, argpartition, argsort, astype, base, byteswap, choose, clip, compress, conj, conjugate, copy, ctypes, cumprod, cumsum, data, diagonal, dot, dtype, dump, dumps, fill, flags, flat, flatten, getfield, imag, item, itemset, itemsize, max, mean, min, nbytes, ndim, newbyteorder, nonzero, partition, prod, ptp, put, ravel, real, repeat, reshape, resize, round, searchsorted, setfield, setflags, shape, size, sort, squeeze, std, strides, sum, swapaxes, take, tobytes, tofile, tolist, tostring, trace, transpose, var, view'"
      ]
     },
     "execution_count": 102,
     "metadata": {},
     "output_type": "execute_result"
    }
   ],
   "source": [
    "', '.join(f for f in dir(a) if f[0] != '_')"
   ]
  },
  {
   "cell_type": "code",
   "execution_count": 122,
   "metadata": {},
   "outputs": [
    {
     "name": "stdout",
     "output_type": "stream",
     "text": [
      "a =\n",
      "[[ 1 -2  3 -4]\n",
      " [-5  6 -7  8]]\n",
      "\n",
      "np.where(a>0, a, 0) =\n",
      "[[1 0 3 0]\n",
      " [0 6 0 8]]\n",
      "\n",
      "np.where(abs(a)>4, a, 0) =\n",
      "[[ 0  0  0  0]\n",
      " [-5  6 -7  8]]\n",
      "\n",
      "np.where(a%2 == 0, a, 0) =\n",
      "[[ 0 -2  0 -4]\n",
      " [ 0  6  0  8]]\n",
      "\n",
      "np.where((a>-6) & (a<4), a, 0) =\n",
      "[[ 1 -2  3 -4]\n",
      " [-5  0  0  0]]\n",
      "\n",
      "a.max() = 8\n",
      "a.max(axis=0) = [1 6 3 8]\n",
      "a.min() = -7\n",
      "a.min(axis=1) = [-4 -7]\n",
      "a.mean() = 0.0\n",
      "a.mean(axis=0) = [-2.  2. -2.  2.]\n",
      "\n",
      "a.argmax() = 7\n",
      "a.argmax(axis=0) = [0 1 0 1]\n",
      "a.argmin() = 6\n",
      "a.argmin(axis=1) = [3 2]\n",
      "\n",
      "\n",
      "a.sum(axis=0) = [-4  4 -4  4]\n",
      "a.cumsum(axis=1) =\n",
      "[[ 1 -1  2 -2]\n",
      " [-5  1 -6  2]]\n",
      "\n",
      "a.prod(axis=0) = [ -5 -12 -21 -32]\n",
      "a.cumprod(axis=1) =\n",
      "[[   1   -2   -6   24]\n",
      " [  -5  -30  210 1680]]\n"
     ]
    }
   ],
   "source": [
    "show(\"a#;;  np.where(a>0, a, 0)#;; np.where(abs(a)>4, a, 0)#;\")\n",
    "show(\"np.where(a%2 == 0, a, 0)#;;np.where((a>-6) & (a<4), a, 0)#;\") # opérateurs booléens possibles : & | ^\n",
    "show(\"a.max(); a.max(axis=0); a.min(); a.min(axis=1); a.mean(); a.mean(axis=0);\")\n",
    "show(\"a.argmax(); a.argmax(axis=0); a.argmin(); a.argmin(axis=1);;\")\n",
    "show(\"a.sum(axis=0); a.cumsum(axis=1)#;; a.prod(axis=0); a.cumprod(axis=1)#\")\n",
    "\n",
    "# liste de quelques méthodes usuelles : \n",
    "# max min argmax argmin sum cumsum prod cumprod mean median var std percentile any all "
   ]
  },
  {
   "cell_type": "markdown",
   "metadata": {},
   "source": [
    "<h2 style=\"padding:16px; color:#FFF; background-color:#00C\">E - Divers</h2>"
   ]
  },
  {
   "cell_type": "code",
   "execution_count": null,
   "metadata": {},
   "outputs": [],
   "source": []
  }
 ],
 "metadata": {
  "kernelspec": {
   "display_name": "Python 3 (ipykernel)",
   "language": "python",
   "name": "python3"
  },
  "language_info": {
   "codemirror_mode": {
    "name": "ipython",
    "version": 3
   },
   "file_extension": ".py",
   "mimetype": "text/x-python",
   "name": "python",
   "nbconvert_exporter": "python",
   "pygments_lexer": "ipython3",
   "version": "3.9.12"
  }
 },
 "nbformat": 4,
 "nbformat_minor": 4
}
