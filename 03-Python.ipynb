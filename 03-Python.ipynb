{
 "cells": [
  {
   "cell_type": "markdown",
   "metadata": {},
   "source": [
    "<p style=\"color:#FFF; background-color:#00C; padding:12px; font-size:20px; text-align:center\">\n",
    "<span style=\"font-size:48px\"><b>LANGAGE : PYTHON</b></span><br>\n",
    "<span style=\"width:49%; display:inline-block; text-align:left\">Christophe Schlick</span>\n",
    "<span style=\"width:49%; display:inline-block; text-align:right\"><i>schlick@u-bordeaux.fr</i></span></p>"
   ]
  },
  {
   "cell_type": "markdown",
   "metadata": {},
   "source": [
    "Par défaut, les **cellules de code** présentes dans un notebook Jupyter, vont être écrites et interprétées en utilisant la syntaxe du langage **Python**. Ainsi, lorsqu'on installe l'environnement Jupyter par la distribution **Anaconda**, seul le langage Python est disponible avec l'installation standard. Mais en pratique, de nombreux langages sont utilisables dans l'environnement Jupyter, à condition d'y intégrer un **noyau d'exécution** *(execution kernel)* sous forme de plugin. Au lancement du projet Jupyter, trois noyaux différents ont été développés en parallèle, respectivement pour les langages [**Julia**](https://julialang.org/), [**Python**](https://python.org/) et [**R**](https://www.r-project.org/), ce qui est à l'origine du nom ***Ju-Pyt-R***. Aujourd'hui, des noyaux pour plus de 50 langages de programmation ont été développés et peuvent être intégrés à l'environnement\n",
    "\n",
    "La documentation complète du langage se trouve le site [**ReadTheDocs**](https://python.readthedocs.io) mais elle est également directement disponible dans le menu `Help` de l'interface Jupyter. Ce notebook n'a pas pour vocation d'être un cours complet sur le langage Python, mais a simplement pour objet de montrer les fonctionnalités les plus utiles dans le cadre d'une utilisation au sein de l'environnement Jupyter"
   ]
  },
  {
   "cell_type": "code",
   "execution_count": 19,
   "metadata": {},
   "outputs": [],
   "source": [
    "from SRC.show import show # import de la fonction 'show' permettant de simplifier certaines explications"
   ]
  },
  {
   "cell_type": "markdown",
   "metadata": {},
   "source": [
    "<h2 style=\"padding:16px; color:#FFF; background-color:#00C\">A - Expressions, Instructions, Commentaires</h2>\n",
    "\n",
    "Indépendamment du langage de programmation utilisé pour le noyau, une cellule de code d'un notebook Jupyter va toujours combiner des éléments de nature différente :\n",
    "\n",
    "- Des **expressions** qui permettent de ***générer des données*** (la plupart du temps en partant d'autres données)\n",
    "- Des **instructions** qui permettent d'***exécuter des actions*** sur ces données\n",
    "- Des **commentaires** qui permettent de ***fournir des informations*** concernant les données et les actions\n",
    "\n",
    "Ces trois notions sont fondamentales pour comprendre le fonctionnement des cellules de code"
   ]
  },
  {
   "cell_type": "markdown",
   "metadata": {},
   "source": [
    "---\n",
    "### 1 - Commentaires\n",
    "\n",
    "Un commentaire Python est une **séquence de caractères arbitraires**, préfixée par le caractère **dièse** (**hash** en anglais). Un commentaire peut être placé soit seul sur une ligne, soit derrière une expression ou une instruction :"
   ]
  },
  {
   "cell_type": "code",
   "execution_count": 4,
   "metadata": {},
   "outputs": [],
   "source": [
    "# Ceci est un commentaire\n",
    "1 + 2 # Ceci est un commentaire placé derrière une expression\n",
    "a = 1 + 2 # Ceci est un commentaire placé derrière une instruction"
   ]
  },
  {
   "cell_type": "markdown",
   "metadata": {},
   "source": [
    "---\n",
    "### 2 - Expressions\n",
    "\n",
    "Une expression Python est une **combinaison algébrique** mettant en oeuvre des **données** de natures diverses et des **opérateurs** prédéfinis par le langage. Les expressions sont réparties dans différentes catégories en fonction de la nature des données qu'elles utilisent.\n",
    "\n",
    "Dans une cellule de code, une **expression est systématiquement évaluée** lorsque qu'on valide la cellule, et **la valeur obtenue est retournée** et affichée juste en dessous de la cellule :"
   ]
  },
  {
   "cell_type": "code",
   "execution_count": 5,
   "metadata": {},
   "outputs": [
    {
     "data": {
      "text/plain": [
       "3"
      ]
     },
     "execution_count": 5,
     "metadata": {},
     "output_type": "execute_result"
    }
   ],
   "source": [
    "1 + 2"
   ]
  },
  {
   "cell_type": "markdown",
   "metadata": {},
   "source": [
    "L'ajout d'un **dièse** au début d'une expression la transforme en commentaire, ce qui va **bloquer son évaluation** :"
   ]
  },
  {
   "cell_type": "code",
   "execution_count": 6,
   "metadata": {},
   "outputs": [],
   "source": [
    "#1 + 2"
   ]
  },
  {
   "cell_type": "markdown",
   "metadata": {},
   "source": [
    "L'ajout d'un **point-virgule** à la fin d'une expression va permettre son évaluation, mais **bloquer sa valeur de retour** :"
   ]
  },
  {
   "cell_type": "code",
   "execution_count": 7,
   "metadata": {},
   "outputs": [],
   "source": [
    "1 + 2;"
   ]
  },
  {
   "cell_type": "markdown",
   "metadata": {},
   "source": [
    "Si on combine plusieurs expressions dans une même cellule, **seule est retournée la valeur de la dernière expression** :"
   ]
  },
  {
   "cell_type": "code",
   "execution_count": 8,
   "metadata": {},
   "outputs": [
    {
     "data": {
      "text/plain": [
       "30"
      ]
     },
     "execution_count": 8,
     "metadata": {},
     "output_type": "execute_result"
    }
   ],
   "source": [
    "1 + 2\n",
    "3 + 4 + 5\n",
    "6 + 7 + 8 + 9"
   ]
  },
  {
   "cell_type": "markdown",
   "metadata": {},
   "source": [
    "Pour éviter cela, on peut combiner plusieurs expressions sur une même ligne, en les **séparant par une virgule** :"
   ]
  },
  {
   "cell_type": "code",
   "execution_count": 9,
   "metadata": {},
   "outputs": [
    {
     "data": {
      "text/plain": [
       "(3, 12, 30)"
      ]
     },
     "execution_count": 9,
     "metadata": {},
     "output_type": "execute_result"
    }
   ],
   "source": [
    "1 + 2, 3 + 4 + 5, 6 + 7 + 8 + 9"
   ]
  },
  {
   "cell_type": "markdown",
   "metadata": {},
   "source": [
    "---\n",
    "### 3 - Instructions\n",
    "\n",
    "Une instruction Python est une **combinaison algébrique** mettant en oeuvre des **expressions** arbitraires et des **mots-clés** prédéfinis par le langage. Comme pour les expressions, les instructions sont réparties dans différentes catégories, en fonction des mots-clés qu'ils utilisent. A la différence d'une expression, une **instruction est exécutée** et non pas évaluée, et par conséquent, elle **ne retourne pas de valeur**.\n",
    "\n",
    "L'instruction de loin la plus fréquente, s'appelle une **affectation** et consiste à associer un **identificateur** (séquence arbitraire de lettres et de chiffres) à une **expression**, afin de pouvoir réutiliser sa valeur par la suite. L'affectation se définit à l'aide du mot-clé **`=`** et peut se mettre en oeuvre sous différentes formes :"
   ]
  },
  {
   "cell_type": "code",
   "execution_count": 42,
   "metadata": {},
   "outputs": [],
   "source": [
    "a = 0 # affectation simple\n",
    "b, c, d = 1 + 2, 3 + 4 + 5, 6 + 7 + 8 + 9 # affectation multiple\n",
    "x, y, *z = 1, 2, 3, 4, 5 # affectation avec factorisation ('folding') par l'utilisation du préfixe '*'"
   ]
  },
  {
   "cell_type": "markdown",
   "metadata": {},
   "source": [
    "Lors d'une affectation, la valeur de retour de l'expression utilisée est stockée en mémoire, et l'identificateur créé constitue un **label** qui permet de désigner cette valeur. Ainsi l'évaluation d'un identificateur consiste simplement à récupérer la valeur stockée en mémoire (ce qui est très souvent beaucoup plus efficace que l'évaluation de l'expression initiale) :"
   ]
  },
  {
   "cell_type": "code",
   "execution_count": 43,
   "metadata": {},
   "outputs": [
    {
     "data": {
      "text/plain": [
       "0"
      ]
     },
     "execution_count": 43,
     "metadata": {},
     "output_type": "execute_result"
    }
   ],
   "source": [
    "# Note : enlevez un par un le caractère '#' en préfixe des lignes suivantes pour tester les différents cas\n",
    "\n",
    "a # évaluation d'un identificateur unique\n",
    "#a, b, c, d # évaluation d'identificateurs multiples\n",
    "#x, y, *z # évaluation avec développement ('unfolding') par l'utilisation du préfixe '*'\n",
    "#x, y, z # la même chose sans développement"
   ]
  },
  {
   "cell_type": "markdown",
   "metadata": {},
   "source": [
    "Une autre instruction très fréquente met en oeuvre la fonction **`print`** qui permet d'**afficher à l'écran, les expressions fournies en paramètre** en séparant chacune d'elles par un espace. Par défaut, chaque utilisation de la fonction **`print`** affiche ses paramètres sur une nouvelle ligne, mais ce comportement peut être facilement modifié :"
   ]
  },
  {
   "cell_type": "code",
   "execution_count": 17,
   "metadata": {},
   "outputs": [
    {
     "name": "stdout",
     "output_type": "stream",
     "text": [
      "0 3 12 30\n",
      "0 3 12 30\n",
      "1 2 3 4 5 1 2 [3, 4, 5]\n"
     ]
    }
   ],
   "source": [
    "print(0, 1 + 2, 3 + 4 + 5, 6 + 7 + 8 + 9)\n",
    "print(a, b, c, d)\n",
    "print(x, y, *z, x, y, z)"
   ]
  },
  {
   "cell_type": "markdown",
   "metadata": {},
   "source": [
    "La fonction `show` est une version alternative de la fonction `print` et sera fréquemment utilisée pour cette série de tutos. Comme il ne s'agit pas d'une fonction standard de Python, elle a dû être importée au début du notebook. A la différence de la fonction `print` qui n'affiche que la valeur des expressions données en paramètres, la fonction `show` permet d'**afficher à la fois l'expression initiale et la valeur de cette expression**, en procédant à une évaluation avec ou sans développement. Plusieurs expressions peuvent être évaluées en séquence, à condition de les séparer par des **points virgule**, chacune de ces expressions s'affichera alors sur une ligne séparée"
   ]
  },
  {
   "cell_type": "code",
   "execution_count": 20,
   "metadata": {},
   "outputs": [
    {
     "name": "stdout",
     "output_type": "stream",
     "text": [
      "0 = 0\n",
      "1 + 2 = 3\n",
      "3 + 4 + 5 = 12\n",
      "6 + 7 + 8 + 9 = 30\n",
      "\n",
      "a = 0\n",
      "b = 3\n",
      "c = 12\n",
      "d = 30\n",
      "\n",
      "x = 1\n",
      "y = 2\n",
      "z = [3, 4, 5]\n",
      "*z = 3 4 5\n",
      "(x, y, *z, x, y, *z) = (1, 2, 3, 4, 5, 1, 2, 3, 4, 5)\n",
      "*(x, y, *z, x, y, *z) = 1 2 3 4 5 1 2 3 4 5\n"
     ]
    }
   ],
   "source": [
    "# chaque caractère ';' génère un retour à la ligne (et donc un ';;' va créer un saut de ligne)\n",
    "show(\"0; 1 + 2; 3 + 4 + 5; 6 + 7 + 8 + 9;; a; b; c; d;\")\n",
    "# comme précédemment le préfixe '*' permet d'effectuer une évaluation avec développement ('unfolding')\n",
    "show(\"x; y; z; *z; (x, y, *z, x, y, *z); *(x, y, *z, x, y, *z)\")"
   ]
  },
  {
   "cell_type": "markdown",
   "metadata": {},
   "source": [
    "<h2 style=\"padding:16px; color:#FFF; background-color:#00C\">B - Types de données atomiques (= non itérables)</h2>\n",
    "\n",
    "Les types de données **atomiques** (également appelées \"*non itérables*\") permettent de stocker les données élémentaires manipulés par un langage de programmation. Le noyau Python possède ***cinq types de données atomiques*** prédéfinis, mais évidemment la nature extensible du langage permet d'en rajouter de nouveaux, quasiment sans restriction."
   ]
  },
  {
   "cell_type": "markdown",
   "metadata": {},
   "source": [
    "---\n",
    "### 1 - Vide\n",
    "\n",
    "Le type **`None`** correspond à l'équivalent mathématique de l'ensemble vide\n",
    "\n",
    "- Le vide ne possède qu'une seule valeur **`None`**\n",
    "- On ne peut lui appliquer aucun opérateur"
   ]
  },
  {
   "cell_type": "code",
   "execution_count": 14,
   "metadata": {},
   "outputs": [
    {
     "name": "stdout",
     "output_type": "stream",
     "text": [
      "n = None\n"
     ]
    }
   ],
   "source": [
    "n = None\n",
    "show('n')"
   ]
  },
  {
   "cell_type": "markdown",
   "metadata": {},
   "source": [
    "---\n",
    "### 2 - Booléens\n",
    "\n",
    "Le type **`bool`** correspond à l'équivalent mathématique de l'ensemble des booléens\n",
    "\n",
    "- Les booléens ne possèdent que les deux valeurs : **`True`** et **`False`**\n",
    "- On peut leur appliquer les trois opérateurs standards de l'algèbre booléenne : **`not`** **`and`** **`or`**"
   ]
  },
  {
   "cell_type": "code",
   "execution_count": 15,
   "metadata": {},
   "outputs": [
    {
     "name": "stdout",
     "output_type": "stream",
     "text": [
      "a = True\n",
      "b = False\n",
      "not a = False\n",
      "not b = True\n",
      "a and b = False\n",
      "a and a = True\n",
      "a or b = True\n",
      "b or b = False\n"
     ]
    }
   ],
   "source": [
    "a, b = True, False\n",
    "show(\"a; b; not a; not b; a and b; a and a; a or b; b or b\")"
   ]
  },
  {
   "cell_type": "markdown",
   "metadata": {},
   "source": [
    "---\n",
    "### 3 - Entiers\n",
    "\n",
    "Le type **`int`** correspond à l'équivalent mathématique de l'ensemble <font size=+1>&#8484;</font> des nombres entiers\n",
    "\n",
    "- Les entiers sont stockés en base 2 mais affichés en base 10, avec une précision \"infinie\" (limitée uniquement par la quantité de mémoire disponible pour l'interpréteur)\n",
    "- On peut leur appliquer les sept opérateurs standards de l'arithmétique entière : \n",
    "`+`  `-`  `*`  `/`  `%`  `//`  `**`"
   ]
  },
  {
   "cell_type": "code",
   "execution_count": 16,
   "metadata": {},
   "outputs": [
    {
     "name": "stdout",
     "output_type": "stream",
     "text": [
      "i = 654\n",
      "j = 321\n",
      "i + j = 975\n",
      "i - j = 333\n",
      "i * j = 209934\n",
      "i / j = 2.0373831775700935\n",
      "i // j = 2\n",
      "i % j = 12\n",
      "(i // j) * j + (i % j) = 654\n",
      "i ** j = 6316219470564986556862360676247200428481816653513007915435299355589579425024021489731425526784398569774071132939339304833554281926442407085193322959173739533055312342404718189769352843605313729745561287880227553379955497050761254511323315246638186197597553682229518332851427051017895829921027848345712389539897194952767103658454042501202068985192000565782195626523323968187509459568451267829903171120034801012171332166598871422796845344051139437422874010123695379605362748243767939352901829134984183307771195520171092445522050651129666769265623815415179832498746090436757336603265007706999891584371116934834962060005714711941980415168671281048184842491904983538791421069054982526539636421421950736317900662951364708745165391462601976413035094203505451493888605731077381539962830266156703709793302402125223802725335400087249684177308083990816750563337139900498097959128084279812142464472153511670006677504\n"
     ]
    }
   ],
   "source": [
    "i, j = 654, 321\n",
    "show(\"i; j; i + j; i - j; i * j; i / j; i // j; i % j; (i // j) * j + (i % j); i ** j\")"
   ]
  },
  {
   "cell_type": "markdown",
   "metadata": {},
   "source": [
    "---\n",
    "### 4 - Réels\n",
    "\n",
    "Le type **`float`** correspond à l'équivalent mathématique de l'ensemble <font size=+1>&#8477;</font> des nombres réels\n",
    "\n",
    "- Les réels sont stockés en base 2 et affichés en base 10, avec une précision de 16 chiffres significatifs\n",
    "- On peut leur appliquer les cinq opérateurs standard de l'arithmétique réelle : `+`  `-`  `*`  `/`  `**`\n",
    "- La conversion de la base 2 (stockage) vers la base 10 (affichage) peut engendrer des erreurs d'arrondis"
   ]
  },
  {
   "cell_type": "code",
   "execution_count": 17,
   "metadata": {},
   "outputs": [
    {
     "name": "stdout",
     "output_type": "stream",
     "text": [
      "x = 12.34\n",
      "y = 5.678e-09\n",
      "x + y = 12.340000005678\n",
      "x - y = 12.339999994322\n",
      "x * y = 7.006652e-08\n",
      "x / y = 2173300457.907714\n",
      "y / x = 4.6012965964343597e-10\n",
      "x ** y = 1.0000000142679397\n",
      "y ** x = 1.765107215419599e-102\n",
      "\n",
      "0.1 + 0.2 = 0.30000000000000004\n",
      "round(0.1 + 0.2, 5) = 0.3\n"
     ]
    }
   ],
   "source": [
    "x, y = 12.34, 5.678E-9\n",
    "show(\"x; y; x + y; x - y; x * y; x / y; y / x; x ** y; y ** x;; 0.1 + 0.2; round(0.1 + 0.2, 5)\")"
   ]
  },
  {
   "cell_type": "markdown",
   "metadata": {},
   "source": [
    "---\n",
    "### 5 - Complexes\n",
    "\n",
    "Le type **`complex`** correspond à l'équivalent mathématique de l'ensemble <font size=+1>&#8450;</font> des nombres complexes\n",
    "\n",
    "- Les complexes sont stockés comme un couple de réels (parties réelle et imaginaire)\n",
    "- On peut leur appliquer les cinq opérateurs standard de l'arithmétique complexe : `+`  `-`  `*`  `/`  `**`\n",
    "- Les parties réelle et imaginaire sont accessibles par la notation pointée : `real` `imag`"
   ]
  },
  {
   "cell_type": "code",
   "execution_count": 18,
   "metadata": {},
   "outputs": [
    {
     "name": "stdout",
     "output_type": "stream",
     "text": [
      "z = (12+34j)\n",
      "w = (5.67+7.8e-09j)\n",
      "z + w = (17.67+34.0000000078j)\n",
      "z - w = (6.33+33.9999999922j)\n",
      "z * w = (68.03999973479999+192.7800000936j)\n",
      "z / w = (2.1164021246512323+5.996472660227877j)\n",
      "w / z = (0.05233846174246155-0.1482923076203077j)\n",
      "z ** w = (514998169.58648115+433284880.0634948j)\n",
      "w ** z = (-848811564.743318+706038189.6394922j)\n",
      "z.real = 12.0\n",
      "z.imag = 34.0\n"
     ]
    }
   ],
   "source": [
    "z, w = 12 + 34j, complex(5.67, 7.8E-9)\n",
    "show(\"z; w; z + w; z - w; z * w; z / w; w / z; z ** w; w ** z; z.real; z.imag\")"
   ]
  },
  {
   "cell_type": "markdown",
   "metadata": {},
   "source": [
    "<h2 style=\"padding:16px; color:#FFF; background-color:#00C\">C - Types de données structurés (= itérables)</h2>\n",
    "\n",
    "bolobolo"
   ]
  },
  {
   "cell_type": "markdown",
   "metadata": {},
   "source": [
    "---\n",
    "### 1 - Chaînes de caractères\n",
    "\n",
    "Le type **`str`** correspond à une séquence/chaîne de caractères de taille arbitraire\n",
    "\n",
    "- Les caractères d'une chaîne sont stockés selon le standard **[Unicode](https://unicode-table.com)**<br>\n",
    "  (actuellement ~245000 caractères définis, sur un total potentiel de $2^{20}$ = 1048576)\n",
    "- Tout caractère Unicode inséré dans une chaîne, peut être\n",
    "  - soit saisi directement au clavier (pour les caractères usuels)\n",
    "  - soit copié/collé à partir d'un autre document contenant ce caractère\n",
    "  - soit identifié par une séquence **`\\uxxxx`** où **`xxxx`** représente le code hexadécimal du caractère\n",
    "- On peut uniquement appliquer deux opérateurs aux chaînes : `+` (= concaténation) `*` (= répétition)\n",
    "- En plus des opérateurs externes, les chaînes possèdent de nombreuses méthodes internes\n",
    "\n",
    "|   |   |   |   |  |  |\n",
    "| :---: | :---: | :---: | :---: | :---: | :---: |\n",
    "| isprintable | isspace | isascii | islower | isupper | istitle |\n",
    "| isidentifier | isalnum | isalpha | isnumeric | isdecimal | isdigit |\n",
    "| lower | upper | capitalize| title | swapcase| casefold |\n",
    "| strip | lstrip | rstrip | startswith | endswith | translate |\n",
    "| split | splitlines | lsplit | rsplit | partition | rpartition  |\n",
    "| join | center | ljust | rjust | zfill | format |\n",
    "| find | rfind | index | rindex | replace | count |"
   ]
  },
  {
   "cell_type": "code",
   "execution_count": 19,
   "metadata": {},
   "outputs": [
    {
     "name": "stdout",
     "output_type": "stream",
     "text": [
      "s = abcd 1234 #$€! çêñå\n",
      "t = ♠ ♣ ♥ ♦ ♠ ♣ ♥ ♦\n",
      "s.upper() = ABCD 1234 #$€! ÇÊÑÅ\n",
      "s.replace('1234', t) = abcd ♠ ♣ ♥ ♦ ♠ ♣ ♥ ♦ #$€! çêñå\n",
      "\n",
      "'abc' + 'def' = abcdef\n",
      "'abc def ' * 3 = abc def abc def abc def \n"
     ]
    }
   ],
   "source": [
    "s, t = 'abcd 1234 #$€! çêñå', '\\u2660 \\u2663 \\u2665 \\u2666 ♠ ♣ ♥ ♦'\n",
    "show(\"s; t; s.upper(); s.replace('1234', t);#; 'abc' + 'def'; 'abc def ' * 3\")"
   ]
  },
  {
   "cell_type": "markdown",
   "metadata": {},
   "source": [
    "---\n",
    "### 2 - Listes\n",
    "\n",
    "bolobolo"
   ]
  },
  {
   "cell_type": "code",
   "execution_count": 20,
   "metadata": {},
   "outputs": [
    {
     "data": {
      "text/plain": [
       "[1, 2, 3, 4, 5, 6, 7, 8, 9]"
      ]
     },
     "execution_count": 20,
     "metadata": {},
     "output_type": "execute_result"
    }
   ],
   "source": [
    "data = [1, 2, 3, 4, 5, 6, 7, 8, 9] # création d'une liste (par extension)\n",
    "data"
   ]
  },
  {
   "cell_type": "code",
   "execution_count": 21,
   "metadata": {},
   "outputs": [
    {
     "name": "stdout",
     "output_type": "stream",
     "text": [
      "data[0] = 1\n",
      "data[-1] = 9\n",
      "data[2:5] = [3, 4, 5]\n",
      "data[1:-1] = [2, 3, 4, 5, 6, 7, 8]\n",
      "data[1:8:2] = [2, 4, 6, 8]\n",
      "data[::-1] = [9, 8, 7, 6, 5, 4, 3, 2, 1]\n"
     ]
    }
   ],
   "source": [
    "# La lecture des éléments d'une liste peut se faire par indice ou par tranche d'indices\n",
    "show(\"data[0]; data[-1]; data[2:5]; data[1:-1]; data[1:8:2]; data[::-1]\")"
   ]
  },
  {
   "cell_type": "code",
   "execution_count": 22,
   "metadata": {},
   "outputs": [
    {
     "data": {
      "text/plain": [
       "['a', 2, 3, 4, 5, 6, 7, 8, 9]"
      ]
     },
     "execution_count": 22,
     "metadata": {},
     "output_type": "execute_result"
    }
   ],
   "source": [
    "# La modification des éléments d'une liste peut se faire par indice ou par tranche d'indices\n",
    "data[0] = 'a'\n",
    "#data[-1] = 'z'\n",
    "#data[1:8:2] = [-2, -4, -6, -8]\n",
    "#data[4:5] = [data[0], data[-1]] * 3\n",
    "data"
   ]
  },
  {
   "cell_type": "code",
   "execution_count": 23,
   "metadata": {},
   "outputs": [
    {
     "data": {
      "text/plain": [
       "[None, [1, 2, 3], [[True, False], [['abc', '123'], [12.345, (67+89j)]]]]"
      ]
     },
     "execution_count": 23,
     "metadata": {},
     "output_type": "execute_result"
    }
   ],
   "source": [
    "# Une liste peut contenir tout type de données (y compris d'autres listes)\n",
    "data = [None, [1, 2, 3], [[True, False], [['abc', '123'], [12.345, 67+89j]]]]\n",
    "data"
   ]
  },
  {
   "cell_type": "code",
   "execution_count": 24,
   "metadata": {},
   "outputs": [
    {
     "name": "stdout",
     "output_type": "stream",
     "text": [
      "data =\n",
      "[[...], [1, 2, 3], [[True, False], [['abc', '123'], [12.345, (67+89j)]]]]\n",
      "\n",
      "data[0] =\n",
      "[[...], [1, 2, 3], [[True, False], [['abc', '123'], [12.345, (67+89j)]]]]\n",
      "\n",
      "data[0][0] =\n",
      "[[...], [1, 2, 3], [[True, False], [['abc', '123'], [12.345, (67+89j)]]]]\n",
      "\n",
      "data[0][0][0][0][0][0][0][0][0][0][0][0][0][0][0][0][0][0] =\n",
      "[[...], [1, 2, 3], [[True, False], [['abc', '123'], [12.345, (67+89j)]]]]\n"
     ]
    }
   ],
   "source": [
    "# Une liste peut même se contenir elle-même (une liste est juste une adresse en mémoire)\n",
    "data[0] = data\n",
    "show(\"data#;; data[0]#;; data[0][0]#;; data[0][0][0][0][0][0][0][0][0][0][0][0][0][0][0][0][0][0]#\")"
   ]
  },
  {
   "cell_type": "markdown",
   "metadata": {},
   "source": [
    "---\n",
    "### 3 - Dictionnaires\n",
    "\n",
    "bolobolo"
   ]
  },
  {
   "cell_type": "code",
   "execution_count": 21,
   "metadata": {},
   "outputs": [
    {
     "data": {
      "text/plain": [
       "{'toto': 1, 'titi': 2, 'tutu': 3}"
      ]
     },
     "execution_count": 21,
     "metadata": {},
     "output_type": "execute_result"
    }
   ],
   "source": [
    "data = {'toto':1, 'titi':2, 'tutu':3} # création d'un dictionnaire (par extension)\n",
    "#data = dict(toto=1, titi=2, tutu=3) # version alternative (valable pour des clés alphanumériques)\n",
    "#keys, vals = ['toto', 'titi', 'tutu'], [1, 2, 3] # création de listes de clés et de valeurs\n",
    "#data = dict(zip(keys, vals)) # création par entrelacement des clés et des valeurs\n",
    "data"
   ]
  },
  {
   "cell_type": "code",
   "execution_count": 26,
   "metadata": {},
   "outputs": [
    {
     "name": "stdout",
     "output_type": "stream",
     "text": [
      "data['toto'] = 1\n",
      "data['titi'] = 2\n",
      "list(data.keys()) = ['toto', 'titi', 'tutu']\n",
      "list(data.values()) = [1, 2, 3]\n",
      "list(data.items()) = [('toto', 1), ('titi', 2), ('tutu', 3)]\n"
     ]
    }
   ],
   "source": [
    "# La lecture des éléments d'un dictionnaire peut se faire uniquement par clé\n",
    "# mais on peut récupérer la liste des clés, des valeurs ou des couples (clé,valeur)\n",
    "show(\"data['toto']; data['titi']; list(data.keys()); list(data.values()); list(data.items())\")"
   ]
  },
  {
   "cell_type": "code",
   "execution_count": 27,
   "metadata": {},
   "outputs": [
    {
     "data": {
      "text/plain": [
       "{'toto': 2, 'titi': 1, 'tutu': -1, 'tata': -2}"
      ]
     },
     "execution_count": 27,
     "metadata": {},
     "output_type": "execute_result"
    }
   ],
   "source": [
    "# La modification des éléments d'une liste peut se faire uniquement par clé\n",
    "data['tutu'] = -1\n",
    "data['toto'], data['titi'] = data['titi'], data['toto']\n",
    "data['tata'] = -2 # insertion d'un nouveau couple (clé,valeur)\n",
    "data"
   ]
  },
  {
   "cell_type": "code",
   "execution_count": 28,
   "metadata": {},
   "outputs": [
    {
     "data": {
      "text/plain": [
       "{'a': 'XYZ', 'b': {'i': 0, 'j': 1}, 'c': ['XYZ', [1.2, 3.4], {'x': 1, 'y': 2}]}"
      ]
     },
     "execution_count": 28,
     "metadata": {},
     "output_type": "execute_result"
    }
   ],
   "source": [
    "# Un dictionnaire peut contenir tout type de données (y compris d'autres dictionnaires)\n",
    "data = dict(a='XYZ', b=dict(i=0,j=1), c=['XYZ', [1.2,3.4], {'x':1,'y':2}])\n",
    "data"
   ]
  },
  {
   "cell_type": "code",
   "execution_count": 29,
   "metadata": {},
   "outputs": [
    {
     "name": "stdout",
     "output_type": "stream",
     "text": [
      "data =\n",
      "{'a': 'XYZ', 'b': {'i': 0, 'j': 1}, 'c': ['XYZ', [1.2, 3.4], {'x': 1, 'y': 2}], 'z': {...}}\n",
      "data['z'] =\n",
      "{'a': 'XYZ', 'b': {'i': 0, 'j': 1}, 'c': ['XYZ', [1.2, 3.4], {'x': 1, 'y': 2}], 'z': {...}}\n",
      "data['z']['z'] =\n",
      "{'a': 'XYZ', 'b': {'i': 0, 'j': 1}, 'c': ['XYZ', [1.2, 3.4], {'x': 1, 'y': 2}], 'z': {...}}\n",
      "data['z']['z']['z']['z']['z']['z']['z']['z']['z']['z'] =\n",
      "{'a': 'XYZ', 'b': {'i': 0, 'j': 1}, 'c': ['XYZ', [1.2, 3.4], {'x': 1, 'y': 2}], 'z': {...}}\n"
     ]
    }
   ],
   "source": [
    "# Un dictionnaire peut même se contenir lui-même (un dictionnaire est juste une adresse en mémoire)\n",
    "data['z'] = data\n",
    "show(\"data#; data['z']#; data['z']['z']#; data['z']['z']['z']['z']['z']['z']['z']['z']['z']['z']#\")"
   ]
  },
  {
   "cell_type": "markdown",
   "metadata": {},
   "source": [
    "<h2 style=\"padding:16px; color:#FFF; background-color:#00C\">D - Structures de contrôle</h2>\n",
    "\n",
    "bolobolo"
   ]
  },
  {
   "cell_type": "markdown",
   "metadata": {},
   "source": [
    "---\n",
    "### 1 - Tests\n",
    "\n",
    "bolobolo"
   ]
  },
  {
   "cell_type": "code",
   "execution_count": 30,
   "metadata": {},
   "outputs": [],
   "source": [
    "# TODO : if elif else"
   ]
  },
  {
   "cell_type": "markdown",
   "metadata": {},
   "source": [
    "---\n",
    "### 2 - Boucles et Itérateurs\n",
    "\n",
    "Il existe deux structures de contrôle permettant d'effectuer des boucles en Python :\n",
    "\n",
    "- La boucle `while` qui permet de répéter un bloc de code tant qu'une condition booléenne est vérifiée\n",
    "- La boucle `for ... in` permet de parcourir toute donnée itérable (chaîne, liste, dictionnaire)"
   ]
  },
  {
   "cell_type": "code",
   "execution_count": 31,
   "metadata": {},
   "outputs": [],
   "source": [
    "# TODO : while"
   ]
  },
  {
   "cell_type": "code",
   "execution_count": 32,
   "metadata": {},
   "outputs": [
    {
     "name": "stdout",
     "output_type": "stream",
     "text": [
      "1\n",
      "2\n",
      "3\n",
      "4\n",
      "5\n",
      "6\n",
      "7\n",
      "8\n",
      "9\n"
     ]
    }
   ],
   "source": [
    "# La commande 'for ... in' permet de parcourir les éléments d'une liste\n",
    "data = [1, 2, 3, 4, 5, 6, 7, 8, 9]\n",
    "for n in data: print(n) # affichage simple\n",
    "#for n in data: print(n, n*n) # affichage multiple\n",
    "#for n in data: print(f\"{n} x {n} = {n*n}\") # affichage formaté\n",
    "#for n in data: print(\"{n} x {n} = {n*n}\") # ATTENTION : le préfixe 'f' est primordial"
   ]
  },
  {
   "cell_type": "code",
   "execution_count": 33,
   "metadata": {},
   "outputs": [
    {
     "name": "stdout",
     "output_type": "stream",
     "text": [
      "data[0] = AAA\n",
      "data[1] = BBB\n",
      "data[2] = CCC\n",
      "data[3] = DDD\n",
      "data[4] = EEE\n",
      "data[5] = FFF\n"
     ]
    }
   ],
   "source": [
    "data = 'AAA BBB CCC DDD EEE FFF'.split() # création d'une liste à partir d'une chaîne\n",
    "for index, value in enumerate(data): print(f\"data[{index}] = {value}\") # énumération des éléments"
   ]
  },
  {
   "cell_type": "code",
   "execution_count": 34,
   "metadata": {},
   "outputs": [
    {
     "name": "stdout",
     "output_type": "stream",
     "text": [
      "toto : 1\n",
      "titi : 2\n",
      "tutu : 3\n"
     ]
    }
   ],
   "source": [
    "# Deux options sont utilisables pour parcourir un dictionnaire\n",
    "data = {'toto':1, 'titi':2, 'tutu':3}\n",
    "for key in data: print(key, ':', data[key]) # parcours des clés et récupération de la valeur associée\n",
    "#for (key, val) in data.items(): print(key, ':', val) # parcours des couples (clé, valeur)"
   ]
  },
  {
   "cell_type": "code",
   "execution_count": 26,
   "metadata": {},
   "outputs": [
    {
     "data": {
      "text/plain": [
       "range(0, 10)"
      ]
     },
     "execution_count": 26,
     "metadata": {},
     "output_type": "execute_result"
    }
   ],
   "source": [
    "# En pratique, les boucles les plus fréquentes mettent en oeuvre l'itérateur 'range' sur un intervalle d'entiers\n",
    "seq = range(10) # itérateur de 0 à 9 par pas de 1 (intervalle TOUJOURS fermé à gauche, ouvert à droite)\n",
    "#seq = range(0, 51, 5) # itérateur de 0 à 50 par pas de 5\n",
    "#seq = range(50, -1, -5) # itérateur de 50 à 0 par pas de -5\n",
    "#seq = range(0, 10**1000, 1) # ATTENTION : ne surtout pas créer de boucle for avec cet itérateur\n",
    "seq # affichage de l'itérateur tel qu'il est défini de manière interne\n",
    "#list(seq) # conversion de l'itérateur en liste\n",
    "#for n in seq: print(n) # boucle de parcours sur l'itérateur (pas de conversion préalable nécessaire)"
   ]
  },
  {
   "cell_type": "code",
   "execution_count": 29,
   "metadata": {},
   "outputs": [
    {
     "data": {
      "text/plain": [
       "[0, 25, 100, 225, 400, 625, 900, 1225, 1600, 2025, 2500]"
      ]
     },
     "execution_count": 29,
     "metadata": {},
     "output_type": "execute_result"
    }
   ],
   "source": [
    "# les itérateurs permettent également de créer des listes à la volée\n",
    "data = [n*n for n in range(0, 51, 5)] # création d'une liste (par compréhension)\n",
    "#data = [(n, n*n) for n in range(0, 51, 5)] # création d'une liste de couples (n, n*n)\n",
    "#data = dict((n, n*n) for n in range(0, 51, 5)) # création d'un dictionnaire associant n et n*n\n",
    "data"
   ]
  },
  {
   "cell_type": "markdown",
   "metadata": {},
   "source": [
    "---\n",
    "### 3 - Fonctions et Générateurs"
   ]
  },
  {
   "cell_type": "code",
   "execution_count": 31,
   "metadata": {},
   "outputs": [],
   "source": [
    "data = [1, 2, 3, 4, 5, 6, 7, 8, 9]\n",
    "#data = range(0, 51, 5)"
   ]
  },
  {
   "cell_type": "code",
   "execution_count": 32,
   "metadata": {},
   "outputs": [
    {
     "name": "stdout",
     "output_type": "stream",
     "text": [
      "1! = 1\n",
      "2! = 2\n",
      "3! = 6\n",
      "4! = 24\n",
      "5! = 120\n",
      "6! = 720\n",
      "7! = 5040\n",
      "8! = 40320\n",
      "9! = 362880\n"
     ]
    }
   ],
   "source": [
    "from math import factorial # import d'une fonction externe (se trouvant dans le module 'math')\n",
    "# tester SHIFT+TAB avec le curseur à l'intérieur d'un identificateur (variable ou fonction)\n",
    "for n in data: print(f\"{n}! = {factorial(n)}\")"
   ]
  },
  {
   "cell_type": "code",
   "execution_count": 45,
   "metadata": {},
   "outputs": [],
   "source": [
    "def fibo(n): # définition d'une fonction interne\n",
    "  \"\"\"return the n-th term of the Fibonacci sequence\"\"\"\n",
    "  a, b = 0, 1\n",
    "  for loop in range(n):\n",
    "    a, b = b, a + b\n",
    "  return a"
   ]
  },
  {
   "cell_type": "markdown",
   "metadata": {},
   "source": [
    "Il peut être utile de tester la fonction sur [PyTutor](https://pythontutor.com/visualize.html#code=def%20fibo%28n%29%3A%0A%20%20%22%22%22return%20the%20n-th%20term%20of%20the%20Fibonacci%20sequence%22%22%22%0A%20%20a,%20b%20%3D%200,%201%0A%20%20for%20loop%20in%20range%28n%29%3A%0A%20%20%20%20a,%20b%20%3D%20b,%20a%20%2B%20b%0A%20%20return%20a%0A%20%20%0Afibo%2812%29&cumulative=false&curInstr=0&heapPrimitives=nevernest&mode=display&origin=opt-frontend.js&py=3&rawInputLstJSON=%5B%5D&textReferences=false)"
   ]
  },
  {
   "cell_type": "code",
   "execution_count": 34,
   "metadata": {},
   "outputs": [
    {
     "name": "stdout",
     "output_type": "stream",
     "text": [
      "fibo(1) = 1\n",
      "fibo(2) = 1\n",
      "fibo(3) = 2\n",
      "fibo(4) = 3\n",
      "fibo(5) = 5\n",
      "fibo(6) = 8\n",
      "fibo(7) = 13\n",
      "fibo(8) = 21\n",
      "fibo(9) = 34\n"
     ]
    }
   ],
   "source": [
    "for n in data: print(f\"fibo({n}) = {fibo(n)}\")"
   ]
  },
  {
   "cell_type": "code",
   "execution_count": 35,
   "metadata": {},
   "outputs": [],
   "source": [
    "def fibo_binet(n):\n",
    "  \"\"\"return the n-th term of the Fibonacci sequence using Binet's formula\n",
    "     fibo(n) = (phi**n-psi**n)/(phi-psi) where phi = (1+sqrt(5))/2 and psi = (1-sqrt(5))/2\"\"\"\n",
    "  phi, psi = 1.618033988749895, -0.6180339887498949\n",
    "  return round((phi**n - psi**n) / (phi - psi))"
   ]
  },
  {
   "cell_type": "markdown",
   "metadata": {},
   "source": [
    "Il peut être utile de tester la fonction sur [PyTutor](https://pythontutor.com/visualize.html#code=def%20fibo_binet%28n%29%3A%0A%20%20%22%22%22return%20the%20n-th%20term%20of%20the%20Fibonacci%20sequence%20using%20Binet's%20formula%0A%20%20%20%20%20fibo%28n%29%20%3D%20%28phi**n-psi**n%29/%28phi-psi%29%20where%20phi%20%3D%20%281%2Bsqrt%285%29%29/2%20and%20psi%20%3D%20%281-sqrt%285%29%29/2%22%22%22%0A%20%20phi,%20psi%20%3D%201.618033988749895,%20-0.6180339887498949%0A%20%20return%20round%28%28phi**n%20-%20psi**n%29%20/%20%28phi%20-%20psi%29%29%0A%20%20%0Afibo_binet%2812%29&cumulative=false&curInstr=0&heapPrimitives=nevernest&mode=display&origin=opt-frontend.js&py=3&rawInputLstJSON=%5B%5D&textReferences=false)"
   ]
  },
  {
   "cell_type": "code",
   "execution_count": 36,
   "metadata": {},
   "outputs": [
    {
     "data": {
      "text/plain": [
       "[(1, 1), (1, 1), (2, 2), (3, 3), (5, 5), (8, 8), (13, 13), (21, 21), (34, 34)]"
      ]
     },
     "execution_count": 36,
     "metadata": {},
     "output_type": "execute_result"
    }
   ],
   "source": [
    "[(fibo(n), fibo_binet(n)) for n in data] # on obtient bien les mêmes valeurs"
   ]
  },
  {
   "cell_type": "code",
   "execution_count": 37,
   "metadata": {},
   "outputs": [
    {
     "name": "stdout",
     "output_type": "stream",
     "text": [
      "34.7 ms ± 1.4 ms per loop (mean ± std. dev. of 7 runs, 10 loops each)\n",
      "1.07 ms ± 18.1 µs per loop (mean ± std. dev. of 7 runs, 1,000 loops each)\n"
     ]
    }
   ],
   "source": [
    "%timeit [fibo(n) for n in range(1000)]\n",
    "%timeit [fibo_binet(n) for n in range(1000)]"
   ]
  },
  {
   "cell_type": "code",
   "execution_count": 45,
   "metadata": {},
   "outputs": [
    {
     "data": {
      "text/plain": [
       "20793608237133498072112648988642836825087036094015903119682945866528501423455686648927456034305226515591757343297190158010624794267250973176133810179902738038231789748346235556483191431591924532394420028067810320408724414693462849062668387083308048250920654493340878733226377580847446324873797603734794648258113858631550404081017260381202919943892370942852601647398213554479081823593715429566945149312993664846779090437799284773675379284270660175134664833266377698642012106891355791141872776934080803504956794094648292880566056364718187662668970758537383352677420835574155945658542003634765324541006121012446785689171494803262408602693091211601973938229446636049901531963286159699077880427720289235539329671877182915643419079186525118678856821600897520171070499437657067342400871083908811800976259727431820539554256869460815355918458253398234382360435762759823179896116748424269545924633204614137992850814352018738480923581553988990897151469406131695614497783720743461373756218685106856826090696339815490921253714537241866911604250597353747823733268178182198509240226955826416016690084749816072843582488613184829905383150180047844353751554201573833105521980998123833253261228689824051777846588461079790807828367132384798451794011076569057522158680378961532160858387223882974380483931929541222100800313580688585002598879566463221427820448492565073106595808837401648996423563386109782045634122467872921845606409174360635618216883812562321664442822952537577492715365321134204530686742435454505103269768144370118494906390254934942358904031509877369722437053383165360388595116980245927935225901537634925654872380877183008301074569444002426436414756905094535072804764684492105680024739914490555904391369218696387092918189246157103450387050229300603241611410707453960080170928277951834763216705242485820801423866526633816082921442883095463259080471819329201710147828025221385656340207489796317663278872207607791034431700112753558813478888727503825389066823098683355695718137867882982111710796422706778536913192342733364556727928018953989153106047379741280794091639429908796650294603536651238230626"
      ]
     },
     "execution_count": 45,
     "metadata": {},
     "output_type": "execute_result"
    }
   ],
   "source": [
    "fibo(9999) # la version itérative effectue les calculs en entiers avec une précision infinie"
   ]
  },
  {
   "cell_type": "code",
   "execution_count": null,
   "metadata": {
    "tags": []
   },
   "outputs": [],
   "source": [
    "fibo_binet(9999) # la version fonctionnelle effectue les calculs en réels avec une précision limitée --> OverflowError"
   ]
  },
  {
   "cell_type": "markdown",
   "metadata": {},
   "source": [
    "<h2 style=\"padding:16px; color:#FFF; background-color:#00C\">E - Divers</h2>"
   ]
  },
  {
   "cell_type": "code",
   "execution_count": null,
   "metadata": {},
   "outputs": [],
   "source": [
    "%load file.py\n",
    "%run file.py [args...]\n",
    "%%timeit # cell\n",
    "%timeit command\n",
    "%prun command"
   ]
  },
  {
   "cell_type": "code",
   "execution_count": 2,
   "metadata": {},
   "outputs": [
    {
     "name": "stdout",
     "output_type": "stream",
     "text": [
      "\u001b[1;31mClass constructor information:\n",
      "\u001b[0m \u001b[0mobject\u001b[0m\u001b[1;33m(\u001b[0m\u001b[1;33m)\u001b[0m\u001b[1;33m\u001b[0m\u001b[1;33m\u001b[0m\u001b[0m\n",
      " "
     ]
    }
   ],
   "source": [
    "%pdef callable\n",
    "%pdoc object"
   ]
  },
  {
   "cell_type": "code",
   "execution_count": null,
   "metadata": {},
   "outputs": [],
   "source": []
  }
 ],
 "metadata": {
  "kernelspec": {
   "display_name": "Python 3 (ipykernel)",
   "language": "python",
   "name": "python3"
  },
  "language_info": {
   "codemirror_mode": {
    "name": "ipython",
    "version": 3
   },
   "file_extension": ".py",
   "mimetype": "text/x-python",
   "name": "python",
   "nbconvert_exporter": "python",
   "pygments_lexer": "ipython3",
   "version": "3.9.12"
  }
 },
 "nbformat": 4,
 "nbformat_minor": 4
}
