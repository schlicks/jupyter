{
 "cells": [
  {
   "cell_type": "markdown",
   "metadata": {},
   "source": [
    "<p style=\"color:#FFF; background-color:#00C; padding:12px; font-size:20px; text-align:center\">\n",
    "<span style=\"font-size:48px\"><b>ENVIRONNEMENT : JUPYTER</b></span><br>\n",
    "<span style=\"width:49%; display:inline-block; text-align:left\">Christophe Schlick</span>\n",
    "<span style=\"width:49%; display:inline-block; text-align:right\"><i>schlick@u-bordeaux.fr</i></span></p>"
   ]
  },
  {
   "cell_type": "markdown",
   "metadata": {},
   "source": [
    "[**Jupyter**](https://jupyter.org) est un environnement de développement informatique qui permet de créer des **notebooks**, fichiers hybrides qui mélangent du ***texte***, des ***données*** numériques ou alphanumériques, des ***équations***, des ***images***, des ***vidéos***, des ***liens*** hypertexte et du ***code*** informatique. Le nom Jupyter vient de la concaténation des trois langages de programmation qui étaient initialement disponibles dans cet environnement : [**Julia**](https://julialang.org/), [**Python**](https://python.org/) et [**R**](https://www.r-project.org/). A chaque langage de programmation est associé un **noyau d'exécution** (*execution kernel*) qui sera chargé d'interpréter le code informatique contenu dans le notebook\n",
    "\n",
    "Dans sa version standard, Jupyter est un environnement qui s'installe sur un poste de travail individuel. Il existe aujourd'hui sous deux interfaces différentes :\n",
    "\n",
    "- La version **Jupyter Notebook** correspond à l'interface initiale de l'environnement. Elle a été développée en 2015, à partir de l'environnement interactif *IPython* (créé en 2001) qui a lui-même été développé en s'inspirant des interfaces qui existaient dans les logiciels de calculs formels et numériques, tel que [**Maple**](https://fr.maplesoft.com/products/Maple) (créé en 1982), [**Matlab**](https://fr.mathworks.com/products/matlab.html) (créé en 1984) ou  [**Mathematica**](https://www.wolfram.com/mathematica) (créé en 1988)\n",
    "\n",
    "- La version **Jupyter Lab** correspond à la nouvelle interface de l'environnement, conçue de manière beaucoup plus modulaire et permettant d'inclure facilement des extensions par un mécanisme de plugins\n",
    "\n",
    ">Cette présentation va utiliser ***JupyterLab 3.3.2*** (version sortie en mai 2022)<br>\n",
    "La documentation complète de l'environnement se trouve sur [**ReadTheDocs**](https://jupyterlab.readthedocs.io/en/stable/index.html)\n",
    "\n",
    "Il faut noter qu'il existe des versions alternatives de l'environnement Jupyter, qui peuvent s'utiliser en ligne, sans installation locale :\n",
    "\n",
    "- [**JupyterHub**](https://jupyterhub.readthedocs.io/en/stable/) est destiné à être installé sur un serveur de réseau local, et permet de définir des comptes utilisateurs pour s'y connecter\n",
    "- [**Colab(oraty)**](https://colab.research.google.com/notebooks/intro.ipynb), développé par Google, permet d'accéder à un environnement Jupyter avec son compte Google et ses fichiers stockés sur Google Drive\n",
    "- [**Azure Notebooks**](https://notebooks.azure.com/#) équivalent à Colab, développé par Microsoft"
   ]
  },
  {
   "cell_type": "markdown",
   "metadata": {},
   "source": [
    "<h2 style=\"padding:16px; color:#FFF; background-color:#00C\">A - Installation</h2>\n",
    "\n",
    "La manière la plus simple pour installer Jupyter sur un poste individuel est d'utiliser la distribution\n",
    "[**Anaconda**](https://www.anaconda.com/products/distribution) qui fournit un écosystème très fonctionnel pour le développement d'applications et de notebooks à contenu scientifique. La distribution (qui pèse environ 600Mo) inclut plus de 1500 paquetages logiciels différents. Anaconda est disponible pour les trois principales plateformes : [**Windows**](https://www.anaconda.com/distribution/#windows), [**MacOS**](https://www.anaconda.com/distribution/#macos) et [**Linux**](https://www.anaconda.com/distribution/#linux). Voici quelques unes des composantes installées par Anaconda :\n",
    "\n",
    "<center><img src=\"IMG/anaconda.png\"></center>"
   ]
  },
  {
   "cell_type": "markdown",
   "metadata": {},
   "source": [
    "<h2 style=\"padding:16px; color:#FFF; background-color:#00C\">B - Généralités</h2>\n",
    "\n",
    "Le lancement de l'environnement **Jupyter Lab** sur un poste individuel va créer un (mini-)serveur HTTP à l'adresse `http://localhost:8888/lab` (adresse modifiable si nécessaire) capable de traduire, à la volée, des fichiers ***`.ipynb`*** (IPython NoteBook) en fichiers ***`.html`*** (HyperText Markup Language) visualisables sur tout navigateur web\n",
    "    \n",
    "**Note :** En lançant Jupyter Lab, l'ancien environnement **Jupyter Notebook** est également accessible, il suffit d'accéder à l'adresse `http://localhost:8888/tree` sur son navigateur web. Néanmoins, il est important de se rappeler que **Jupyter Lab** et **Jupyter Notebook** n'utilisent pas le même moteur pour la conversion des fichiers ***ipynb*** en ***html***, ce qui peut engendrer quelques différences lors de l'affichage d'un même notebook sur les deux environnements.\n",
    "\n",
    "---\n",
    "### 1 - Interface\n",
    "\n",
    "Par défaut, la page d'accueil affichée par JupyterLab est composée de quatre zones :\n",
    "- **En haut :** une ***barre de menus*** horizontale<br>\n",
    "  **`File`** , **`Edit`** , **`View`**, **`Run`** , **`Kernel`** , **`Tabs`** , \n",
    "  **`Settings`** , **`Help`**\n",
    "- **A gauche :** une ***barre de contrôle*** verticale contenant plusieurs onglets<br>\n",
    "  **`File Browser`** , **`Property Inspector`** , **`Terminals & Kernels`** , **`Table of Contents`** , **`Extension Manager`**\n",
    "- **A droite :** une ***barre de débogage*** verticale permettant d'analyser l'exécution des cellules de code<br>\n",
    "  **`Variables`** , **`Callstack`** , **`Breakpoints`** , **`Source`** , **`Kernel Sources`**\n",
    "- **Au centre :** une ***zone de travail*** contenant les documents actifs (un onglet par document)\n",
    "\n",
    "Pour occuper tout l'espace, on peut combiner le mode *simple interface* de Jupyter (seul le document courant est visible) et le mode *plein-écran* du navigateur\n",
    "\n",
    "---\n",
    "### 2 - Formats de documents\n",
    "\n",
    "L'environnement Jupyter permet de manipuler de nombreux types de documents, soit en **mode édition** (*edit*), soit en **mode visualisation** (*view*)\n",
    "\n",
    "- **Notebooks** : **`.ipynb`** (edit/view)\n",
    "- **Textes** :  **`.txt`** (edit/view) &emsp; **`.md`** (edit/view) &emsp; **`.html`** (edit/view)\n",
    "- **Données** : **`.csv`** (edit/view) &emsp; **`.json`** (edit/view) &emsp; **`.yaml`** (edit/view) &emsp; **`.xml`** (edit/view))\n",
    "- **Images** :  **`.png`** (view) &emsp; **`.jpg`** (view) &emsp; **`.gif`** (view) &emsp; **`.bmp`** (view)\n",
    "- **Tracés** :  **`.svg`** (edit/view) &emsp; **`.dio`**  (edit/view)\n",
    "\n",
    "---\n",
    "### 3 - Notebook\n",
    "\n",
    "Du point de vue de l'ordinateur, un **notebook Jupyter** est simplement un fichier local ou distant, au format JSON (JavaScript Object Notation). Même s'il s'agit d'un fichier JSON classique, le nom du fichier utilise une extension spécifique **`.ipynb`** permettant d'activer automatiquement l'interprétation du notebook par Jupyter\n",
    "\n",
    "Du point de vue de l'utilisateur, un notebook Jupyter est une page web interactive qui se compose de 2 types de **cellules** :\n",
    "- soit des cellules de texte *(langage **Markdown** par défaut, mais on peut insérer des éléments HTML et LaTeX)*\n",
    "- soit des cellules de code *(langage **Python** par défaut, mais plus de 50 langages de programmation peuvent être utilisés)*\n",
    "\n",
    "Pour **éditer une cellule**, il suffit de la sélectionner puis modifier son contenu \n",
    "- pour une cellule de texte, la sélection s'effectue par un **double clic** de souris\n",
    "- pour une cellule de code, la sélection s'effectue par un **simple clic** de souris\n",
    "\n",
    "Pour **interpréter le contenu** d'une cellule (texte ou code), il faut la valider\n",
    "- soit par <kbd>**Control**</kbd> + <kbd>**Enter**</kbd> (dans ce cas, la cellule courante reste active)\n",
    "- soit par <kbd>**Shift**</kbd> + <kbd>**Enter**</kbd> (dans ce cas, la cellule suivante devient active, quitte à la créer si nécessaire)\n",
    "- soit par <kbd>**Alt**</kbd> + <kbd>**Enter**</kbd> (dans ce cas, une cellule suivante est systématiquement créée et devient active)\n",
    "\n",
    "---\n",
    "### 4 - Barre de menu\n",
    "\n",
    "- Le menu **`File`** permet d'ouvrir, sauvegarder ou exporter un notebook\n",
    "- Le menu **`Edit`** permet de copier, coller, supprimer, déplacer, séparer ou fusionner des cellules\n",
    "- Le menu **`View`** permet de personnaliser l'affichage du notebook ou des cellules\n",
    "- Le menu **`Run`** permet d'interpréter plusieurs cellules en séquence\n",
    "- Le menu **`Kernel`** permet d'arrêter, de relancer ou de changer d'interpréteur\n",
    "- Le menu **`Tab`** permet de naviguer entre les différents onglets de l'interface\n",
    "- Le menu **`Settings`** permet de lancer les outils de configuration de l'environnement\n",
    "- Le menu **`Help`** permet d'accéder à l'aide en ligne pour les outils disponibles\n",
    "\n",
    "---\n",
    "### 5 - Barre de contrôle\n",
    "\n",
    "- Le bouton **`File Browser`** permet d'afficher un explorateur de fichiers\n",
    "- Le bouton **`Property Inspector`** permet d'afficher les détails sur une cellule du notebook actif\n",
    "- Le bouton **`Terminal & Kernels`** permet de lister et de manipuler les sessions et les onglets actifs\n",
    "- Le bouton **`Table of Contents`** permet d'afficher l'arborescence du plan pour le notebook actif\n",
    "- Le bouton **`Extension Manager`** permet d'installer ou désinstaller des plugins pour l'environnement\n",
    "\n",
    "---\n",
    "### 6 - Barre d'outils\n",
    "\n",
    "Chaque notebook actif possède une barre d'outils qui regroupe les commandes les plus fréquentes\n",
    "- Le bouton **`Save`** permet de sauvegarder le notebook actif\n",
    "- Le bouton **`Insert Cell`** permet d'insérer une nouvelle cellule sous la cellule active\n",
    "- Le bouton **`Cut Cells`** permet de couper les cellules sélectionnées\n",
    "- Le bouton **`Copy Cells`** permet de copier les cellules sélectionnées\n",
    "- Le bouton **`Paste Cells`** permet de coller les cellules précédemment coupées ou copiées\n",
    "- Le bouton **`Run Cell`** permet d'exécuter/interpréter l'ensemble des cellules sélectionnées\n",
    "- Le bouton **`Stop Kernel`** permet d'arrêter le noyau (en cas de blocage, notamment)\n",
    "- Le bouton **`Restart Kernel`** permet d'arrêter et de redémarrer le noyau\n",
    "- Le sélecteur **`Cell Type`** permet de modifier le type de la cellule active\n",
    "- Le sélecteur **`Switch Kernel`** permet de modifier le noyau utilisé pour le notebook actif\n",
    "\n",
    "---\n",
    "### 7 - Raccourcis clavier\n",
    "\n",
    "**Mode COMMAND :**\n",
    "- <kbd>**Y**</kbd> = Basculer la cellule active en mode code (~ Python)\n",
    "- <kbd>**M**</kbd> = Basculer la cellule active en mode texte (~ Markdown)\n",
    "- <kbd>**A**</kbd> = Créer une cellule au-dessus (above) de la cellule active (Above)\n",
    "- <kbd>**B**</kbd> = Créer une cellule en-dessous (below) de la cellule active (Below)\n",
    "- <kbd>**C**</kbd> = Copier la cellule active (Copy)\n",
    "- <kbd>**X**</kbd> = Couper la cellule active (Cut)\n",
    "- <kbd>**V**</kbd> = Coller la cellule copiée/coupée (Paste)\n",
    "- <kbd>**D**</kbd> + <kbd>**D**</kbd> = Détruire la cellule active (Delete)\n",
    "- <kbd>**Z**</kbd> = Défaire (Undo)\n",
    "- <kbd>**SHIFT**</kbd> + <kbd>**Z**</kbd> = Refaire (Redo)\n",
    "- <kbd>**L**</kbd> = Basculer l'affichage de la numérotation des lignes (Toggle Lines)\n",
    "- <kbd>**O**</kbd> = Basculer l'affichage de la sortie des cellules (Toggle output)\n",
    "- <kbd>**F**</kbd> = Chercher et Remplacer (Find/Replace)\n",
    "- <kbd>**↑**</kbd> = Activer cellule précédente (Prev)\n",
    "- <kbd>**↓**</kbd> = Activer cellule suivante (Next)\n",
    "- <kbd>**PAGE DOWN**</kbd> ou <kbd>**SPACE**</kbd> = (Scroll Down) \n",
    "- <kbd>**PAGE UP**</kbd> ou <kbd>**SHIFT**</kbd> + <kbd>**SPACE**</kbd> = (Scroll Up)\n",
    "- <kbd>**ENTER**</kbd> = Activation du mode EDIT\n",
    "\n",
    "**Mode EDIT :**\n",
    "- <kbd>**SHIFT**</kbd> + <kbd>**TAB**</kbd> = Aide pour le symbole sous la souris\n",
    "- <kbd>**ESC**</kbd> = Activation du mode COMMAND"
   ]
  },
  {
   "cell_type": "markdown",
   "metadata": {},
   "source": [
    "<h2 style=\"padding:16px; color:#FFF; background-color:#00C\">C - Cellules de texte</h2>\n",
    "\n",
    "Cette section illustre la mise en oeuvre des **cellules de texte** à l'intérieur d'un notebook Jupyter. Les explications complètes se trouvent dans le notebook intitulé [**Markdown.ipynb**](02-Markdown.ipynb)"
   ]
  },
  {
   "cell_type": "markdown",
   "metadata": {
    "tags": []
   },
   "source": [
    "<h2 style=\"padding:16px; color:#FFF; background-color:#00C\">D - Cellules de code</h2>\n",
    "\n",
    "Cette section illustre la mise en oeuvre des **cellules de code** à l'intérieur d'un notebook Jupyter. Les explications complètes se trouvent dans le notebook intitulé [**Python.ipynb**](03-Python.ipynb)"
   ]
  },
  {
   "cell_type": "markdown",
   "metadata": {
    "tags": []
   },
   "source": [
    "<h2 style=\"padding:16px; color:#FFF; background-color:#00C\">E - Commandes \"magiques\"</h2>\n",
    "\n",
    "Cette section montre quelques exemples d'utilisation des commandes magiques dans les cellules de code\n",
    "\n",
    "* Les commandes de cellules, préfixées par `%%`, se placent **en début de cellule**\n",
    "* Les commandes de lignes, préfixées par `%`, se placent **en début de ligne**"
   ]
  },
  {
   "cell_type": "code",
   "execution_count": 28,
   "metadata": {
    "tags": []
   },
   "outputs": [
    {
     "data": {
      "application/json": {
       "cell": {
        "!": "OSMagics",
        "HTML": "Other",
        "SVG": "Other",
        "bash": "Other",
        "capture": "ExecutionMagics",
        "cmd": "Other",
        "debug": "ExecutionMagics",
        "file": "Other",
        "html": "DisplayMagics",
        "javascript": "DisplayMagics",
        "js": "DisplayMagics",
        "latex": "DisplayMagics",
        "markdown": "DisplayMagics",
        "perl": "Other",
        "prun": "ExecutionMagics",
        "pypy": "Other",
        "python": "Other",
        "python2": "Other",
        "python3": "Other",
        "ruby": "Other",
        "script": "ScriptMagics",
        "sh": "Other",
        "svg": "DisplayMagics",
        "sx": "OSMagics",
        "system": "OSMagics",
        "time": "ExecutionMagics",
        "timeit": "ExecutionMagics",
        "writefile": "OSMagics"
       },
       "line": {
        "alias": "OSMagics",
        "alias_magic": "BasicMagics",
        "autoawait": "AsyncMagics",
        "autocall": "AutoMagics",
        "automagic": "AutoMagics",
        "autosave": "KernelMagics",
        "bookmark": "OSMagics",
        "cd": "OSMagics",
        "clear": "KernelMagics",
        "cls": "KernelMagics",
        "colors": "BasicMagics",
        "conda": "PackagingMagics",
        "config": "ConfigMagics",
        "connect_info": "KernelMagics",
        "copy": "Other",
        "ddir": "Other",
        "debug": "ExecutionMagics",
        "dhist": "OSMagics",
        "dirs": "OSMagics",
        "doctest_mode": "BasicMagics",
        "echo": "Other",
        "ed": "Other",
        "edit": "KernelMagics",
        "env": "OSMagics",
        "gui": "BasicMagics",
        "hist": "Other",
        "history": "HistoryMagics",
        "killbgscripts": "ScriptMagics",
        "ldir": "Other",
        "less": "KernelMagics",
        "load": "CodeMagics",
        "load_ext": "ExtensionMagics",
        "loadpy": "CodeMagics",
        "logoff": "LoggingMagics",
        "logon": "LoggingMagics",
        "logstart": "LoggingMagics",
        "logstate": "LoggingMagics",
        "logstop": "LoggingMagics",
        "ls": "Other",
        "lsmagic": "BasicMagics",
        "macro": "ExecutionMagics",
        "magic": "BasicMagics",
        "matplotlib": "PylabMagics",
        "mkdir": "Other",
        "more": "KernelMagics",
        "notebook": "BasicMagics",
        "page": "BasicMagics",
        "pastebin": "CodeMagics",
        "pdb": "ExecutionMagics",
        "pdef": "NamespaceMagics",
        "pdoc": "NamespaceMagics",
        "pfile": "NamespaceMagics",
        "pinfo": "NamespaceMagics",
        "pinfo2": "NamespaceMagics",
        "pip": "PackagingMagics",
        "popd": "OSMagics",
        "pprint": "BasicMagics",
        "precision": "BasicMagics",
        "prun": "ExecutionMagics",
        "psearch": "NamespaceMagics",
        "psource": "NamespaceMagics",
        "pushd": "OSMagics",
        "pwd": "OSMagics",
        "pycat": "OSMagics",
        "pylab": "PylabMagics",
        "qtconsole": "KernelMagics",
        "quickref": "BasicMagics",
        "recall": "HistoryMagics",
        "rehashx": "OSMagics",
        "reload_ext": "ExtensionMagics",
        "ren": "Other",
        "rep": "Other",
        "rerun": "HistoryMagics",
        "reset": "NamespaceMagics",
        "reset_selective": "NamespaceMagics",
        "rmdir": "Other",
        "run": "ExecutionMagics",
        "save": "CodeMagics",
        "sc": "OSMagics",
        "set_env": "OSMagics",
        "store": "StoreMagics",
        "sx": "OSMagics",
        "system": "OSMagics",
        "tb": "ExecutionMagics",
        "time": "ExecutionMagics",
        "timeit": "ExecutionMagics",
        "unalias": "OSMagics",
        "unload_ext": "ExtensionMagics",
        "who": "NamespaceMagics",
        "who_ls": "NamespaceMagics",
        "whos": "NamespaceMagics",
        "xdel": "NamespaceMagics",
        "xmode": "BasicMagics"
       }
      },
      "text/plain": [
       "Available line magics:\n",
       "%alias  %alias_magic  %autoawait  %autocall  %automagic  %autosave  %bookmark  %cd  %clear  %cls  %colors  %conda  %config  %connect_info  %copy  %ddir  %debug  %dhist  %dirs  %doctest_mode  %echo  %ed  %edit  %env  %gui  %hist  %history  %killbgscripts  %ldir  %less  %load  %load_ext  %loadpy  %logoff  %logon  %logstart  %logstate  %logstop  %ls  %lsmagic  %macro  %magic  %matplotlib  %mkdir  %more  %notebook  %page  %pastebin  %pdb  %pdef  %pdoc  %pfile  %pinfo  %pinfo2  %pip  %popd  %pprint  %precision  %prun  %psearch  %psource  %pushd  %pwd  %pycat  %pylab  %qtconsole  %quickref  %recall  %rehashx  %reload_ext  %ren  %rep  %rerun  %reset  %reset_selective  %rmdir  %run  %save  %sc  %set_env  %store  %sx  %system  %tb  %time  %timeit  %unalias  %unload_ext  %who  %who_ls  %whos  %xdel  %xmode\n",
       "\n",
       "Available cell magics:\n",
       "%%!  %%HTML  %%SVG  %%bash  %%capture  %%cmd  %%debug  %%file  %%html  %%javascript  %%js  %%latex  %%markdown  %%perl  %%prun  %%pypy  %%python  %%python2  %%python3  %%ruby  %%script  %%sh  %%svg  %%sx  %%system  %%time  %%timeit  %%writefile\n",
       "\n",
       "Automagic is ON, % prefix IS NOT needed for line magics."
      ]
     },
     "execution_count": 28,
     "metadata": {},
     "output_type": "execute_result"
    }
   ],
   "source": [
    "%lsmagic # liste des commandes magiques (tester '%magic' pour une aide plus complète)"
   ]
  },
  {
   "cell_type": "code",
   "execution_count": 58,
   "metadata": {
    "tags": []
   },
   "outputs": [
    {
     "data": {
      "text/plain": [
       "'D:\\\\Documents\\\\NoteBook'"
      ]
     },
     "execution_count": 58,
     "metadata": {},
     "output_type": "execute_result"
    }
   ],
   "source": [
    "# Certaines commandes des shells Unix/Windows sont disponibles en tant que commandes magiques\n",
    "# %env, %pwd, %ls, %cd, %mkdir, %rmdir, %mv ou %ren, %cp ou %copy, %more\n",
    "%pwd"
   ]
  },
  {
   "cell_type": "code",
   "execution_count": 49,
   "metadata": {},
   "outputs": [
    {
     "name": "stdout",
     "output_type": "stream",
     "text": [
      "Writing test.txt\n"
     ]
    }
   ],
   "source": [
    "%%file test.txt\n",
    "Bonjour\n",
    "Bonsoir"
   ]
  },
  {
   "cell_type": "code",
   "execution_count": 43,
   "metadata": {},
   "outputs": [],
   "source": [
    "%ren test.txt tost.txt"
   ]
  },
  {
   "cell_type": "code",
   "execution_count": null,
   "metadata": {},
   "outputs": [],
   "source": [
    "%ls"
   ]
  },
  {
   "cell_type": "markdown",
   "metadata": {},
   "source": [
    "<h2 style=\"padding:16px; color:#FFF; background-color:#00C\">F - Commandes issues d'autres langages</h2>\n",
    "\n",
    "Cette section montre quelques exemples d'utilisation d'autres langages dans les cellules de code, par le biais de certaines commandes magiques prédéfinies"
   ]
  },
  {
   "cell_type": "code",
   "execution_count": null,
   "metadata": {},
   "outputs": [],
   "source": [
    "%%cmd\n",
    "ftype | grep txt"
   ]
  },
  {
   "cell_type": "code",
   "execution_count": 67,
   "metadata": {},
   "outputs": [
    {
     "data": {
      "image/svg+xml": [
       "<svg viewBox=\"0 0 800 240\" height=\"240\">\n",
       "  <g fill=\"#DDD\" stroke=\"#000\" stroke-width=\"2\">\n",
       "    <rect x=\"25\" y=\"25\" width=\"700\" height=\"200\" rx=\"25\" stroke-width=\"4\"/>\n",
       "    <ellipse cx=\"100\" cy=\"125\" rx=\"50\" ry=\"75\" fill=\"#F00\"/>\n",
       "    <ellipse cx=\"210\" cy=\"125\" rx=\"50\" ry=\"75\" fill=\"#0F0\"/>\n",
       "    <ellipse cx=\"320\" cy=\"125\" rx=\"50\" ry=\"75\" fill=\"#00F\"/>\n",
       "    <ellipse cx=\"430\" cy=\"125\" rx=\"50\" ry=\"75\" fill=\"#0FF\"/>\n",
       "    <ellipse cx=\"540\" cy=\"125\" rx=\"50\" ry=\"75\" fill=\"#F0F\"/>\n",
       "    <ellipse cx=\"650\" cy=\"125\" rx=\"50\" ry=\"75\" fill=\"#FF0\"/>\n",
       "  </g>\n",
       "</svg>"
      ],
      "text/plain": [
       "<IPython.core.display.SVG object>"
      ]
     },
     "metadata": {},
     "output_type": "display_data"
    }
   ],
   "source": [
    "%%svg\n",
    "<svg viewBox='0 0 800 240' height='240'>\n",
    "  <g fill='#DDD' stroke='#000' stroke-width='2'>\n",
    "    <rect x='25' y='25' width='700' height='200' rx='25' stroke-width='4'/>\n",
    "    <ellipse cx='100' cy='125' rx='50' ry='75' fill='#F00'/>\n",
    "    <ellipse cx='210' cy='125' rx='50' ry='75' fill='#0F0'/>\n",
    "    <ellipse cx='320' cy='125' rx='50' ry='75' fill='#00F'/>\n",
    "    <ellipse cx='430' cy='125' rx='50' ry='75' fill='#0FF'/>\n",
    "    <ellipse cx='540' cy='125' rx='50' ry='75' fill='#F0F'/>\n",
    "    <ellipse cx='650' cy='125' rx='50' ry='75' fill='#FF0'/>\n",
    "  </g>\n",
    "</svg>"
   ]
  },
  {
   "cell_type": "code",
   "execution_count": 78,
   "metadata": {},
   "outputs": [
    {
     "data": {
      "text/html": [
       "<style>\n",
       "#test {background-color:#000; color:#FFF; font-size:40px; text-align:center;}\n",
       "</style>\n",
       "<p id=test>ABCDEFGHIJKLMNOPQRSTUVWXYZ</p>\n"
      ],
      "text/plain": [
       "<IPython.core.display.HTML object>"
      ]
     },
     "metadata": {},
     "output_type": "display_data"
    }
   ],
   "source": [
    "%%html\n",
    "<style>\n",
    "#test {background-color:#000; color:#FFF; font-size:40px; text-align:center;}\n",
    "</style>\n",
    "<p id=test>ABCDEFGHIJKLMNOPQRSTUVWXYZ</p>"
   ]
  },
  {
   "cell_type": "code",
   "execution_count": null,
   "metadata": {},
   "outputs": [],
   "source": [
    "%%html\n",
    "<iframe width='100%' height='400' frameborder='0'\n",
    "src='https://www.wikipedia.org'/>"
   ]
  },
  {
   "cell_type": "code",
   "execution_count": null,
   "metadata": {},
   "outputs": [],
   "source": [
    "%%html\n",
    "<iframe width='100%' height='400' frameborder='0' allowfullscreen\n",
    "src='https://www.youtube.com/embed/A5YyoCKxEOU'/>"
   ]
  },
  {
   "cell_type": "code",
   "execution_count": null,
   "metadata": {},
   "outputs": [],
   "source": []
  }
 ],
 "metadata": {
  "kernelspec": {
   "display_name": "Python 3 (ipykernel)",
   "language": "python",
   "name": "python3"
  },
  "language_info": {
   "codemirror_mode": {
    "name": "ipython",
    "version": 3
   },
   "file_extension": ".py",
   "mimetype": "text/x-python",
   "name": "python",
   "nbconvert_exporter": "python",
   "pygments_lexer": "ipython3",
   "version": "3.9.12"
  }
 },
 "nbformat": 4,
 "nbformat_minor": 4
}
