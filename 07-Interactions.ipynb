{
 "cells": [
  {
   "cell_type": "markdown",
   "metadata": {},
   "source": [
    "<p style=\"color:#FFF; background-color:#00C; padding:12px; font-size:20px; text-align:center\">\n",
    "<span style=\"font-size:48px\"><b>INTERACTIONS</b></span><br>\n",
    "<span style=\"width:49%; display:inline-block; text-align:left\">Christophe Schlick</span>\n",
    "<span style=\"width:49%; display:inline-block; text-align:right\"><i>schlick@u-bordeaux.fr</i></span></p>"
   ]
  },
  {
   "cell_type": "code",
   "execution_count": 1,
   "metadata": {},
   "outputs": [],
   "source": [
    "import numpy as np # import du package 'numpy' avec alias 'np'\n",
    "import pandas as pd # import du package 'pandas' avec alias 'pd'\n",
    "import matplotlib.pyplot as mp # import du package 'matplotlib' avec alias 'mp'\n",
    "import ipywidgets as ws # import du package 'ipywidgets' avec alias 'ws'\n",
    "from SRC.show import show # import de la fonction 'show' permettant de simplifier certaines explications"
   ]
  },
  {
   "cell_type": "markdown",
   "metadata": {},
   "source": [
    "<h2 style=\"padding:16px; color:#FFF; background-color:#00C\">A - Module : animation</h2>\n",
    "\n",
    "Le package **matplotlib** contient un module `animation` qui permet de créer une visualisation graphique incluant une séquence d'animation. Le principe est de créer une séquence d'images à intervalle de temps fixe, et d'utiliser les outils JavaScript du navigateur pour animer ou explorer cette séquence d'images"
   ]
  },
  {
   "cell_type": "code",
   "execution_count": 2,
   "metadata": {},
   "outputs": [],
   "source": [
    "from matplotlib.animation import FuncAnimation as animation # import du module 'animation'\n",
    "from matplotlib import rc; rc('animation', html='jshtml') # on utilise 'jshtml' pour les animations"
   ]
  },
  {
   "cell_type": "code",
   "execution_count": 3,
   "metadata": {
    "tags": []
   },
   "outputs": [],
   "source": [
    "n = 250; t = np.linspace(0, 2*np.pi, n); x, y = np.sin(2*t), np.sin(9*t) # échantillonnage en 'x' et 'y'\n",
    "\n",
    "fig, axe = mp.subplots(figsize=(12,3)); mp.close() # fermeture de l'image statique\n",
    "mp.setp(axe, xticks=[], yticks=[]) # suppression de la grille\n",
    "axe.plot(x, y, 'k-') # tracé fixe sous forme de segments noirs\n",
    "data, = axe.plot(x[0], y[0], 'ro', ms=15) # tracé animé sous forme de disque rouge de diamètre 15 pixels\n",
    "\n",
    "def animate(n): data.set_data(x[n], y[n]) # modification de la position du disque rouge pour une frame 'n'\n",
    "\n",
    "animation(fig, animate, frames=n, interval=20) # création de l'animation (calcul des 'n' images)"
   ]
  },
  {
   "cell_type": "markdown",
   "metadata": {},
   "source": [
    "<h2 style=\"padding:16px; color:#FFF; background-color:#00C\">B - Package : ipywidgets</h2>\n",
    "\n",
    "Le package [**ipywidgets**](https://github.com/jupyter-widgets/ipywidgets) permet d'intégrer dans les notebooks Jupyter, un ensemble de widgets d'interaction pour modifier les paramètres des fonctions contenues dans un notebook, sans être obligé de modifier les cellules de code correspondantes. Cela permet donc à un utilisateur qui ne maîtrise pas la programmation, de pouvoir modifier facilement les jeux de données à expérimenter\n",
    "\n",
    "La documentation complète du package se trouve sur le site [**ReadTheDocs**](https://ipywidgets.readthedocs.io). Ce notebook a pour objet de faire un tour d'horizon rapide et de montrer les fonctionnalités les plus utiles de **ipywidgets** dans le cadre d'une utilisation au sein de l'environnement Jupyter\n",
    "\n",
    "---\n",
    "On importe habituellement le package **ipywidgets** par le biais d'un alias, avec la commande :\n",
    "> `import ipywidgets as ws`\n",
    "\n",
    "afin de racourcir le préfixe qu'il faudra utiliser pour accéder aux fonctions qu'il contient.\n",
    "\n",
    "L'apport principal du package **ipywidgets** est la définition d'une fonction `interact` qui permet de créer cinq types de widgets graphiques pour la saisie interactive de données par l'utilisateur\n",
    "\n",
    "\n",
    "### 1 - Interacteurs à valeurs numériques\n",
    "\n",
    "Les interacteurs à valeurs numériques permettent à l'utilisateur de saisir soit une valeur entière, soit une valeur réelle par le biais d'un **curseur graphique**. L'intervalle de variation de ce curseur est fournie sous la forme d'un couple d'entiers ou de réels. Une troisième valeur (optionnelle) permet de spécifier le pas d'incrément du curseur. Si ce pas n'est pas spécifié, il est initialisé à 1 pour les entiers, et à 0.1 pour les réels"
   ]
  },
  {
   "cell_type": "code",
   "execution_count": 4,
   "metadata": {},
   "outputs": [],
   "source": [
    "def test(a, b): return a, b # simple fonction de test pour les intéracteurs"
   ]
  },
  {
   "cell_type": "code",
   "execution_count": 5,
   "metadata": {},
   "outputs": [
    {
     "data": {
      "application/vnd.jupyter.widget-view+json": {
       "model_id": "d585cfaa4c6644c7b5e915a37f39ed5f",
       "version_major": 2,
       "version_minor": 0
      },
      "text/plain": [
       "interactive(children=(IntSlider(value=5, description='a', max=10), IntSlider(value=25, description='b', max=50…"
      ]
     },
     "metadata": {},
     "output_type": "display_data"
    }
   ],
   "source": [
    "ws.interact(test, a=(0,10), b=(0,50,5)); # interacteur à valeurs entières"
   ]
  },
  {
   "cell_type": "code",
   "execution_count": 6,
   "metadata": {},
   "outputs": [
    {
     "data": {
      "application/vnd.jupyter.widget-view+json": {
       "model_id": "4ceadba1ac1f4f79bb298c8187cad8c2",
       "version_major": 2,
       "version_minor": 0
      },
      "text/plain": [
       "interactive(children=(FloatSlider(value=0.5, description='a', max=1.0), FloatSlider(value=0.0, description='b'…"
      ]
     },
     "metadata": {},
     "output_type": "display_data"
    }
   ],
   "source": [
    "ws.interact(test, a=(0.0,1.0), b=(-5,5,0.5)); # interacteur à valeurs réelles"
   ]
  },
  {
   "cell_type": "markdown",
   "metadata": {},
   "source": [
    "---\n",
    "### 2 - Interacteurs à choix\n",
    "\n",
    "Les interacteurs à choix permettent à l'utilisateur de saisir soit une valeur booléenne (sous la forme d'une **case à cocher**), soit une chaîne de caractères (sous la forme d'une **cellule de saisie** alphanumérique), soit de choisir parmi une liste de valeurs prédéfinies (sous la forme d'une **liste déroulante**). Comme pour\n",
    "les interacteurs à valeurs numériques, c'est toujours par le biais de la fonction `interact` que ces interacteurs sont créés. Pour chaque paramètre fourni à la fonction `interact`, c'est la nature de la valeur d'initialisation du paramètre qui permet à **ipywidgets** de choisir l'interacteur adéquat"
   ]
  },
  {
   "cell_type": "code",
   "execution_count": 7,
   "metadata": {},
   "outputs": [
    {
     "data": {
      "application/vnd.jupyter.widget-view+json": {
       "model_id": "069883eff64f4306a271f6c36032a904",
       "version_major": 2,
       "version_minor": 0
      },
      "text/plain": [
       "interactive(children=(Checkbox(value=True, description='a'), Checkbox(value=False, description='b'), Output())…"
      ]
     },
     "metadata": {},
     "output_type": "display_data"
    }
   ],
   "source": [
    "ws.interact(test, a=True, b=False); # interacteur à valeurs booléennes"
   ]
  },
  {
   "cell_type": "code",
   "execution_count": 8,
   "metadata": {},
   "outputs": [
    {
     "data": {
      "application/vnd.jupyter.widget-view+json": {
       "model_id": "1a6d3305bf2c4ec89f66de6952c6e08a",
       "version_major": 2,
       "version_minor": 0
      },
      "text/plain": [
       "interactive(children=(Text(value='', description='a'), Dropdown(description='b', options=('AAA', 'BBB', 'CCC',…"
      ]
     },
     "metadata": {},
     "output_type": "display_data"
    }
   ],
   "source": [
    "ws.interact(test, a='', b=['AAA','BBB','CCC','DDD','EEE','FFF']); # interacteurs de saisie et de choix"
   ]
  },
  {
   "cell_type": "markdown",
   "metadata": {},
   "source": [
    "---\n",
    "### 3 - Décorateur d'interaction et fonction d'affichage\n",
    "\n",
    "Les fonctions de calcul utilisées dans un notebook fournissent rarement des résultats sous une forme qui permet de les connecter directement avec un interacteur. Il est donc souvent préférable de créer une **fonction d'affichage** qui va appeler la fonction de calcul et reformater les résultats obtenus pour les rendre plus lisibles. De plus, comme la fonction `interact` peut être utilisée sous la forme d'un **décorateur**, cela permet d'avoir une mise en oeuvre et une répartition des rôles très lisible : le décorateur permet de créer la widget d'interaction et de définir les domaines de variation des paramètres, la fonction d'affichage permet de formater les résultats obtenus et de définir les valeurs par défaut pour les paramètres"
   ]
  },
  {
   "cell_type": "code",
   "execution_count": 9,
   "metadata": {},
   "outputs": [
    {
     "data": {
      "application/vnd.jupyter.widget-view+json": {
       "model_id": "01551317f0524cbea35dfa6b3981d557",
       "version_major": 2,
       "version_minor": 0
      },
      "text/plain": [
       "interactive(children=(IntSlider(value=0, description='n', max=50), Output()), _dom_classes=('widget-interact',…"
      ]
     },
     "metadata": {},
     "output_type": "display_data"
    }
   ],
   "source": [
    "from math import factorial as facto # mise en oeuvre avec une fonction externe\n",
    "\n",
    "@ws.interact(n=(0,50)) # le décorateur d'interaction définit les intervalles de variation des paramètres\n",
    "def show_facto(n=0): print(f\"{n}! = {facto(n)}\") # la fonction d'affichage définit les valeurs par défaut"
   ]
  },
  {
   "cell_type": "code",
   "execution_count": 10,
   "metadata": {},
   "outputs": [
    {
     "data": {
      "application/vnd.jupyter.widget-view+json": {
       "model_id": "22f25689090b4a608bd37294fb7f770a",
       "version_major": 2,
       "version_minor": 0
      },
      "text/plain": [
       "interactive(children=(IntSlider(value=0, description='n', max=400), Output()), _dom_classes=('widget-interact'…"
      ]
     },
     "metadata": {},
     "output_type": "display_data"
    }
   ],
   "source": [
    "def fibo(n): # mise en oeuvre avec une fonction interne\n",
    "  a, b = 0, 1\n",
    "  for loop in range(n): a, b = b, a + b\n",
    "  return a\n",
    "\n",
    "@ws.interact(n=(0,400)) # le décorateur d'interaction définit les intervalles de variation des paramètres\n",
    "def show_fibo(n=0): print(f\"fibo({n}) = {fibo(n)}\") # la fonction d'affichage définit les valeurs par défaut"
   ]
  },
  {
   "cell_type": "markdown",
   "metadata": {},
   "source": [
    "---\n",
    "### 4 - Décorateur d'interaction et visualisation graphique\n",
    "\n",
    "La fonction d'affichage interactive peut également mettre en oeuvre une visualisation graphique à l'aide de **matplotlib**"
   ]
  },
  {
   "cell_type": "code",
   "execution_count": 11,
   "metadata": {},
   "outputs": [
    {
     "data": {
      "application/vnd.jupyter.widget-view+json": {
       "model_id": "8be843c57dc3489ab9cf516a4ac7c1b0",
       "version_major": 2,
       "version_minor": 0
      },
      "text/plain": [
       "interactive(children=(IntSlider(value=1, description='a', max=15, min=1), IntSlider(value=2, description='b', …"
      ]
     },
     "metadata": {},
     "output_type": "display_data"
    }
   ],
   "source": [
    "@ws.interact(a=(1,15), b=(1,15)) # décorateur d'interaction (intervalle de variation des paramètres)\n",
    "def show_lissajous(a=1, b=2): # fonction d'affichage (valeurs par défaut des paramètres)\n",
    "  n = 2000; gcd = np.gcd(a,b); t = np.linspace(0, 2*np.pi, n); x, y = np.sin(a*t), np.sin(b*t)\n",
    "  mp.plot(x, y, 'c-'); mp.axis('equal'); mp.xticks([]); mp.yticks([])\n",
    "  mp.title(f\"Lissajous Curve ({a//gcd},{b//gcd})\", pad=10, fontsize='x-large', style='italic')"
   ]
  },
  {
   "cell_type": "markdown",
   "metadata": {},
   "source": [
    "Lorsque la fonction de calcul n'est pas instantanée ou lorsqu'il est judicieux de modifier plusieurs paramètres à la fois avant de lancer le calcul, il est possible d'utiliser la fonction `interact_manual` qui diffère la mise à jour de l'affichage jusqu'au moment où l'utilisateur clique sur le bouton intitulé ***Run Interact***"
   ]
  },
  {
   "cell_type": "code",
   "execution_count": 12,
   "metadata": {},
   "outputs": [
    {
     "data": {
      "application/vnd.jupyter.widget-view+json": {
       "model_id": "f7607e0e07e444aeaf9fa6a2fa572088",
       "version_major": 2,
       "version_minor": 0
      },
      "text/plain": [
       "interactive(children=(IntSlider(value=1, description='a', max=15, min=1), IntSlider(value=2, description='b', …"
      ]
     },
     "metadata": {},
     "output_type": "display_data"
    }
   ],
   "source": [
    "@ws.interact_manual(a=(1,15), b=(1,15), c=(0,10), d=(0.0,1.0)) # décorateur d'interaction\n",
    "def show_curly_lissajous(a=1, b=2, c=5, d=0.5): # fonction d'affichage\n",
    "  n = 20000; gcd = np.gcd(a,b); a, b, c, d = a//gcd, b//gcd, c*5, d/5; t = np.linspace(0, 2*np.pi, n)\n",
    "  x, y = np.sin(a*t) + d*np.cos(max(a,b)*c*t), np.sin(b*t) + d*np.sin(max(a,b)*c*t)\n",
    "  mp.plot(x, y, 'c-'); mp.axis('equal'); mp.xticks([]); mp.yticks([])\n",
    "  mp.title(f\"Curly Lissajous Curve ({a},{b})\", pad=10, fontsize='x-large', style='italic')"
   ]
  },
  {
   "cell_type": "markdown",
   "metadata": {},
   "source": [
    "<h2 style=\"padding:16px; color:#FFF; background-color:#00C\">C - Divers</h2>"
   ]
  },
  {
   "cell_type": "code",
   "execution_count": null,
   "metadata": {},
   "outputs": [],
   "source": []
  }
 ],
 "metadata": {
  "kernelspec": {
   "display_name": "Python 3 (ipykernel)",
   "language": "python",
   "name": "python3"
  },
  "language_info": {
   "codemirror_mode": {
    "name": "ipython",
    "version": 3
   },
   "file_extension": ".py",
   "mimetype": "text/x-python",
   "name": "python",
   "nbconvert_exporter": "python",
   "pygments_lexer": "ipython3",
   "version": "3.9.12"
  }
 },
 "nbformat": 4,
 "nbformat_minor": 4
}
